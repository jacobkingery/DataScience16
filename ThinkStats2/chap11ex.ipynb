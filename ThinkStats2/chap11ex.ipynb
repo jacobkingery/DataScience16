{
 "cells": [
  {
   "cell_type": "markdown",
   "metadata": {},
   "source": [
    "Exercise from Think Stats, 2nd Edition (thinkstats2.com)<br>\n",
    "Allen Downey"
   ]
  },
  {
   "cell_type": "code",
   "execution_count": 32,
   "metadata": {
    "collapsed": false
   },
   "outputs": [],
   "source": [
    "%matplotlib inline\n",
    "\n",
    "import nsfg\n",
    "import chap01soln\n",
    "import statsmodels.formula.api as smf"
   ]
  },
  {
   "cell_type": "markdown",
   "metadata": {},
   "source": [
    "Suppose one of your co-workers is expecting a baby and you are participating in an office pool to predict the date of birth. Assuming that bets are placed during the 30th week of pregnancy, what variables could you use to make the best prediction? You should limit yourself to variables that are known before the birth, and likely to be available to the people in the pool. "
   ]
  },
  {
   "cell_type": "code",
   "execution_count": 33,
   "metadata": {
    "collapsed": false
   },
   "outputs": [
    {
     "data": {
      "text/html": [
       "<div>\n",
       "<table border=\"1\" class=\"dataframe\">\n",
       "  <thead>\n",
       "    <tr style=\"text-align: right;\">\n",
       "      <th></th>\n",
       "      <th>caseid</th>\n",
       "      <th>pregordr</th>\n",
       "      <th>howpreg_n</th>\n",
       "      <th>howpreg_p</th>\n",
       "      <th>moscurrp</th>\n",
       "      <th>nowprgdk</th>\n",
       "      <th>pregend1</th>\n",
       "      <th>pregend2</th>\n",
       "      <th>nbrnaliv</th>\n",
       "      <th>multbrth</th>\n",
       "      <th>...</th>\n",
       "      <th>pubassis_i_r</th>\n",
       "      <th>basewgt_r</th>\n",
       "      <th>adj_mod_basewgt_r</th>\n",
       "      <th>finalwgt_r</th>\n",
       "      <th>secu_r</th>\n",
       "      <th>sest_r</th>\n",
       "      <th>cmintvw_r</th>\n",
       "      <th>cmlstyr</th>\n",
       "      <th>screentime</th>\n",
       "      <th>intvlngth</th>\n",
       "    </tr>\n",
       "  </thead>\n",
       "  <tbody>\n",
       "    <tr>\n",
       "      <th>0</th>\n",
       "      <td>1</td>\n",
       "      <td>1</td>\n",
       "      <td>NaN</td>\n",
       "      <td>NaN</td>\n",
       "      <td>NaN</td>\n",
       "      <td>NaN</td>\n",
       "      <td>6</td>\n",
       "      <td>NaN</td>\n",
       "      <td>1</td>\n",
       "      <td>NaN</td>\n",
       "      <td>...</td>\n",
       "      <td>0</td>\n",
       "      <td>3410.389399</td>\n",
       "      <td>3869.349602</td>\n",
       "      <td>6448.271112</td>\n",
       "      <td>2</td>\n",
       "      <td>9</td>\n",
       "      <td>1231</td>\n",
       "      <td>1219</td>\n",
       "      <td>19:56:43</td>\n",
       "      <td>67.563833</td>\n",
       "    </tr>\n",
       "    <tr>\n",
       "      <th>1</th>\n",
       "      <td>1</td>\n",
       "      <td>2</td>\n",
       "      <td>NaN</td>\n",
       "      <td>NaN</td>\n",
       "      <td>NaN</td>\n",
       "      <td>NaN</td>\n",
       "      <td>6</td>\n",
       "      <td>NaN</td>\n",
       "      <td>1</td>\n",
       "      <td>NaN</td>\n",
       "      <td>...</td>\n",
       "      <td>0</td>\n",
       "      <td>3410.389399</td>\n",
       "      <td>3869.349602</td>\n",
       "      <td>6448.271112</td>\n",
       "      <td>2</td>\n",
       "      <td>9</td>\n",
       "      <td>1231</td>\n",
       "      <td>1219</td>\n",
       "      <td>19:56:43</td>\n",
       "      <td>67.563833</td>\n",
       "    </tr>\n",
       "    <tr>\n",
       "      <th>2</th>\n",
       "      <td>2</td>\n",
       "      <td>1</td>\n",
       "      <td>NaN</td>\n",
       "      <td>NaN</td>\n",
       "      <td>NaN</td>\n",
       "      <td>NaN</td>\n",
       "      <td>5</td>\n",
       "      <td>NaN</td>\n",
       "      <td>3</td>\n",
       "      <td>5</td>\n",
       "      <td>...</td>\n",
       "      <td>0</td>\n",
       "      <td>7226.301740</td>\n",
       "      <td>8567.549110</td>\n",
       "      <td>12999.542264</td>\n",
       "      <td>2</td>\n",
       "      <td>12</td>\n",
       "      <td>1231</td>\n",
       "      <td>1219</td>\n",
       "      <td>14:54:03</td>\n",
       "      <td>106.018167</td>\n",
       "    </tr>\n",
       "    <tr>\n",
       "      <th>3</th>\n",
       "      <td>2</td>\n",
       "      <td>2</td>\n",
       "      <td>NaN</td>\n",
       "      <td>NaN</td>\n",
       "      <td>NaN</td>\n",
       "      <td>NaN</td>\n",
       "      <td>6</td>\n",
       "      <td>NaN</td>\n",
       "      <td>1</td>\n",
       "      <td>NaN</td>\n",
       "      <td>...</td>\n",
       "      <td>0</td>\n",
       "      <td>7226.301740</td>\n",
       "      <td>8567.549110</td>\n",
       "      <td>12999.542264</td>\n",
       "      <td>2</td>\n",
       "      <td>12</td>\n",
       "      <td>1231</td>\n",
       "      <td>1219</td>\n",
       "      <td>14:54:03</td>\n",
       "      <td>106.018167</td>\n",
       "    </tr>\n",
       "    <tr>\n",
       "      <th>4</th>\n",
       "      <td>2</td>\n",
       "      <td>3</td>\n",
       "      <td>NaN</td>\n",
       "      <td>NaN</td>\n",
       "      <td>NaN</td>\n",
       "      <td>NaN</td>\n",
       "      <td>6</td>\n",
       "      <td>NaN</td>\n",
       "      <td>1</td>\n",
       "      <td>NaN</td>\n",
       "      <td>...</td>\n",
       "      <td>0</td>\n",
       "      <td>7226.301740</td>\n",
       "      <td>8567.549110</td>\n",
       "      <td>12999.542264</td>\n",
       "      <td>2</td>\n",
       "      <td>12</td>\n",
       "      <td>1231</td>\n",
       "      <td>1219</td>\n",
       "      <td>14:54:03</td>\n",
       "      <td>106.018167</td>\n",
       "    </tr>\n",
       "  </tbody>\n",
       "</table>\n",
       "<p>5 rows × 3331 columns</p>\n",
       "</div>"
      ],
      "text/plain": [
       "   caseid  pregordr  howpreg_n  howpreg_p  moscurrp  nowprgdk  pregend1  \\\n",
       "0       1         1        NaN        NaN       NaN       NaN         6   \n",
       "1       1         2        NaN        NaN       NaN       NaN         6   \n",
       "2       2         1        NaN        NaN       NaN       NaN         5   \n",
       "3       2         2        NaN        NaN       NaN       NaN         6   \n",
       "4       2         3        NaN        NaN       NaN       NaN         6   \n",
       "\n",
       "   pregend2  nbrnaliv  multbrth     ...      pubassis_i_r    basewgt_r  \\\n",
       "0       NaN         1       NaN     ...                 0  3410.389399   \n",
       "1       NaN         1       NaN     ...                 0  3410.389399   \n",
       "2       NaN         3         5     ...                 0  7226.301740   \n",
       "3       NaN         1       NaN     ...                 0  7226.301740   \n",
       "4       NaN         1       NaN     ...                 0  7226.301740   \n",
       "\n",
       "   adj_mod_basewgt_r    finalwgt_r  secu_r  sest_r  cmintvw_r  cmlstyr  \\\n",
       "0        3869.349602   6448.271112       2       9       1231     1219   \n",
       "1        3869.349602   6448.271112       2       9       1231     1219   \n",
       "2        8567.549110  12999.542264       2      12       1231     1219   \n",
       "3        8567.549110  12999.542264       2      12       1231     1219   \n",
       "4        8567.549110  12999.542264       2      12       1231     1219   \n",
       "\n",
       "   screentime   intvlngth  \n",
       "0    19:56:43   67.563833  \n",
       "1    19:56:43   67.563833  \n",
       "2    14:54:03  106.018167  \n",
       "3    14:54:03  106.018167  \n",
       "4    14:54:03  106.018167  \n",
       "\n",
       "[5 rows x 3331 columns]"
      ]
     },
     "execution_count": 33,
     "metadata": {},
     "output_type": "execute_result"
    }
   ],
   "source": [
    "data = nsfg.ReadFemPreg()\n",
    "data = data[(data.prglngth > 30) & (data.outcome == 1)]\n",
    "resp = chap01soln.ReadFemResp()\n",
    "resp.index = resp.caseid\n",
    "joined = data.join(resp, on='caseid', rsuffix='_r')\n",
    "\n",
    "joined.head()"
   ]
  },
  {
   "cell_type": "code",
   "execution_count": 34,
   "metadata": {
    "collapsed": false
   },
   "outputs": [
    {
     "name": "stdout",
     "output_type": "stream",
     "text": [
      "('totalwgt_lb', 1.0)\n",
      "(u'birthwgt_lb', 0.94981273059780091)\n",
      "(u'lbw1', 0.30082407844707948)\n",
      "(u'prglngth', 0.13012519488625029)\n",
      "(u'wksgest', 0.12340041363360821)\n",
      "(u'agecon', 0.1020314992815573)\n",
      "(u'mosgest', 0.027144274639580579)\n",
      "(u'babysex', 0.018550925293941312)\n",
      "(u'race_r', 0.016199503586251329)\n",
      "(u'race', 0.016199503586251329)\n",
      "(u'nbrnaliv', 0.016017752709791666)\n",
      "(u'paydu', 0.014003795578110934)\n",
      "(u'rmarout03', 0.013430066465712986)\n",
      "(u'birthwgt_oz', 0.013102457615710938)\n",
      "(u'anynurse', 0.012529022541812429)\n",
      "(u'bfeedwks', 0.012193688404499081)\n",
      "(u'totincr', 0.011870069031174046)\n",
      "(u'marout03', 0.011807801994371481)\n",
      "(u'marcon03', 0.011752599354397653)\n",
      "(u'cebow', 0.011437770919637935)\n",
      "(u'rmarout01', 0.011407737138643737)\n",
      "(u'rmarout6', 0.011354138472803199)\n",
      "(u'marout01', 0.011269357246801448)\n",
      "(u'hisprace_r', 0.011238349302033601)\n",
      "(u'hisprace', 0.011238349302033601)\n",
      "(u'mar1diss', 0.010961563590753065)\n",
      "(u'fmarcon5', 0.0106049646843005)\n",
      "(u'rmarout02', 0.010546913206563868)\n",
      "(u'marcon02', 0.010481401795532697)\n",
      "(u'fmarout5', 0.010461691367376624)\n"
     ]
    }
   ],
   "source": [
    "# Following code taken from ThinkStats and annotated to show understanding\n",
    "t = []\n",
    "for col in joined.columns:\n",
    "    try:\n",
    "        # Skip any columns with tiny variance since they won't tell us much\n",
    "        if joined[col].var() < 1e-7:\n",
    "            continue\n",
    "\n",
    "        # Create a model to examine how the baby's weight is related to \n",
    "        # the mother's age and the current column\n",
    "        formula = 'totalwgt_lb ~ agepreg + ' + col\n",
    "        model = smf.ols(formula, data=joined)\n",
    "        \n",
    "        # If less than half of the rows were used, skip this column\n",
    "        if model.nobs < len(joined)/2:\n",
    "            continue\n",
    "\n",
    "        results = model.fit()\n",
    "    except (ValueError, TypeError):\n",
    "        continue\n",
    "\n",
    "    t.append((results.rsquared, col))\n",
    "\n",
    "# Sort the results by R-squared and display the top 30\n",
    "t.sort(reverse=True)\n",
    "for mse, name in t[:30]:\n",
    "    print(name, mse)"
   ]
  },
  {
   "cell_type": "markdown",
   "metadata": {},
   "source": [
    "The top three columns are related to the weight of the baby, so we obviously can't use them in our prediction.  Three of the next four columns are related to the length of the pregnancy which is also unknown until after the fact.  The other column is the mother's age at conception, but this seems redundant since we're already using the mother's age at the end of the pregnancy.  The sex of the baby is pretty high on the list and is most likely known by the 30th week of the pregnancy.  Race is the next highest factor, but as the reading mentions, can sometimes be coupled with various socioeconomic factors.  Out of the remaining columns, number of babies in the pregnancy, whether the mother owns or rents a home, and the mother's total family income could be known or reasonably estimated."
   ]
  },
  {
   "cell_type": "code",
   "execution_count": 35,
   "metadata": {
    "collapsed": false
   },
   "outputs": [
    {
     "name": "stdout",
     "output_type": "stream",
     "text": [
      "0.0599863083304\n",
      "0.0618127968117\n"
     ]
    }
   ],
   "source": [
    "# Model from ThinkStats\n",
    "formula = ('totalwgt_lb ~ agepreg + C(race) + babysex==1 + '\n",
    "               'nbrnaliv>1 + paydu==1 + totincr')\n",
    "results = smf.ols(formula, data=joined).fit()\n",
    "print results.rsquared\n",
    "\n",
    "# My modified model\n",
    "formula = ('totalwgt_lb ~ agepreg + C(race) + babysex==1 + '\n",
    "               'C(nbrnaliv) + paydu==1 + totincr')\n",
    "results = smf.ols(formula, data=joined).fit()\n",
    "print results.rsquared"
   ]
  },
  {
   "cell_type": "markdown",
   "metadata": {},
   "source": [
    "Taking the model that Allen described in _ThinkStats_, I decided to make a slight modification regarding how multiple babies were handled.  My hypothesis was that I would be able to get better results by looking at this categorically (how many babies are in the pregnancy?) rather than as a boolean (is there more than one baby in the pregnancy?).  My reasoning is that it seems to me that triplets would each weigh less than twins who would each weigh less than a single child, and the specific number of babies in the pregnancy would probably be known.  The slight improvment in R$^2$ value seems to indicate that being more specific about this factor would improve your odds in guessing the weight of the baby/babies (though it's still not that much of an improvement over guessing without taking these factors into account)."
   ]
  },
  {
   "cell_type": "markdown",
   "metadata": {},
   "source": [
    "## Clarifying Questions\n",
    "\n",
    "Use this space to ask questions regarding the content covered in the reading. These questions should be restricted to helping you better understand the material. For questions that push beyond what is in the reading, use the next answer field. If you don't have a fully formed question, but are generally having a difficult time with a topic, you can indicate that here as well."
   ]
  },
  {
   "cell_type": "markdown",
   "metadata": {},
   "source": [
    "It seems like a lot of factor can be coupled, such as home ownership status and annual income.  Are there any pitfalls to be aware of regarding this?  Does it matter at all when doing regressions?"
   ]
  },
  {
   "cell_type": "markdown",
   "metadata": {},
   "source": [
    "## Enrichment Questions\n",
    "\n",
    "Use this space to ask any questions that go beyond (but are related to) the material presented in this reading. Perhaps there is a particular topic you'd like to see covered in more depth. Perhaps you'd like to know how to use a library in a way that wasn't show in the reading. One way to think about this is what additional topics would you want covered in the next class (or addressed in a followup e-mail to the class). I'm a little fuzzy on what stuff will likely go here, so we'll see how things evolve."
   ]
  },
  {
   "cell_type": "markdown",
   "metadata": {},
   "source": []
  },
  {
   "cell_type": "markdown",
   "metadata": {},
   "source": [
    "## Additional Resources / Explorations\n",
    "\n",
    "If you found any useful resources, or tried some useful exercises that you'd like to report please do so here. Let us know what you did, what you learned, and how others can replicate it."
   ]
  },
  {
   "cell_type": "markdown",
   "metadata": {},
   "source": []
  }
 ],
 "metadata": {
  "kernelspec": {
   "display_name": "Python 2",
   "language": "python",
   "name": "python2"
  },
  "language_info": {
   "codemirror_mode": {
    "name": "ipython",
    "version": 2
   },
   "file_extension": ".py",
   "mimetype": "text/x-python",
   "name": "python",
   "nbconvert_exporter": "python",
   "pygments_lexer": "ipython2",
   "version": "2.7.3"
  }
 },
 "nbformat": 4,
 "nbformat_minor": 0
}
