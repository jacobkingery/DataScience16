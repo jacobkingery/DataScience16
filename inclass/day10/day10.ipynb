{
 "cells": [
  {
   "cell_type": "markdown",
   "metadata": {},
   "source": [
    "# Day 10\n",
    "\n",
    "This notebook is designed to cover some of the requests from [this](https://piazza.com/class/iju1ffuooio7mp?cid=28) Piazza post.\n",
    "\n",
    "High-level contents of this notebook:\n",
    "1.  Visualizing models\n",
    "2.  Determining when to use a particular model\n",
    "3.  Interpreting log-loss error metric"
   ]
  },
  {
   "cell_type": "markdown",
   "metadata": {},
   "source": [
    "## Loading the Data\n",
    "\n",
    "We will be using both the Rotten Tomatoes and the SF Crime datasets as running examples.  This notebook assumes that you have downloaded the data for these contests from Kaggle and stored them in the directories indicated below."
   ]
  },
  {
   "cell_type": "code",
   "execution_count": 2,
   "metadata": {
    "collapsed": false
   },
   "outputs": [],
   "source": [
    "import pandas as pd\n",
    "\n",
    "tomatoes = pd.read_csv('../../datasets/rotten_tomatoes_train.tsv', sep='\\t')\n",
    "crime = pd.read_csv('../../../CYOA/train.csv')"
   ]
  },
  {
   "cell_type": "code",
   "execution_count": 3,
   "metadata": {
    "collapsed": false
   },
   "outputs": [
    {
     "data": {
      "text/html": [
       "<div>\n",
       "<table border=\"1\" class=\"dataframe\">\n",
       "  <thead>\n",
       "    <tr style=\"text-align: right;\">\n",
       "      <th></th>\n",
       "      <th>PhraseId</th>\n",
       "      <th>SentenceId</th>\n",
       "      <th>Phrase</th>\n",
       "      <th>Sentiment</th>\n",
       "    </tr>\n",
       "  </thead>\n",
       "  <tbody>\n",
       "    <tr>\n",
       "      <th>0</th>\n",
       "      <td>1</td>\n",
       "      <td>1</td>\n",
       "      <td>A series of escapades demonstrating the adage ...</td>\n",
       "      <td>1</td>\n",
       "    </tr>\n",
       "    <tr>\n",
       "      <th>1</th>\n",
       "      <td>2</td>\n",
       "      <td>1</td>\n",
       "      <td>A series of escapades demonstrating the adage ...</td>\n",
       "      <td>2</td>\n",
       "    </tr>\n",
       "    <tr>\n",
       "      <th>2</th>\n",
       "      <td>3</td>\n",
       "      <td>1</td>\n",
       "      <td>A series</td>\n",
       "      <td>2</td>\n",
       "    </tr>\n",
       "    <tr>\n",
       "      <th>3</th>\n",
       "      <td>4</td>\n",
       "      <td>1</td>\n",
       "      <td>A</td>\n",
       "      <td>2</td>\n",
       "    </tr>\n",
       "    <tr>\n",
       "      <th>4</th>\n",
       "      <td>5</td>\n",
       "      <td>1</td>\n",
       "      <td>series</td>\n",
       "      <td>2</td>\n",
       "    </tr>\n",
       "  </tbody>\n",
       "</table>\n",
       "</div>"
      ],
      "text/plain": [
       "   PhraseId  SentenceId                                             Phrase  \\\n",
       "0         1           1  A series of escapades demonstrating the adage ...   \n",
       "1         2           1  A series of escapades demonstrating the adage ...   \n",
       "2         3           1                                           A series   \n",
       "3         4           1                                                  A   \n",
       "4         5           1                                             series   \n",
       "\n",
       "   Sentiment  \n",
       "0          1  \n",
       "1          2  \n",
       "2          2  \n",
       "3          2  \n",
       "4          2  "
      ]
     },
     "execution_count": 3,
     "metadata": {},
     "output_type": "execute_result"
    }
   ],
   "source": [
    "tomatoes.head()"
   ]
  },
  {
   "cell_type": "code",
   "execution_count": 4,
   "metadata": {
    "collapsed": false
   },
   "outputs": [
    {
     "data": {
      "text/html": [
       "<div>\n",
       "<table border=\"1\" class=\"dataframe\">\n",
       "  <thead>\n",
       "    <tr style=\"text-align: right;\">\n",
       "      <th></th>\n",
       "      <th>Dates</th>\n",
       "      <th>Category</th>\n",
       "      <th>Descript</th>\n",
       "      <th>DayOfWeek</th>\n",
       "      <th>PdDistrict</th>\n",
       "      <th>Resolution</th>\n",
       "      <th>Address</th>\n",
       "      <th>X</th>\n",
       "      <th>Y</th>\n",
       "    </tr>\n",
       "  </thead>\n",
       "  <tbody>\n",
       "    <tr>\n",
       "      <th>0</th>\n",
       "      <td>2015-05-13 23:53:00</td>\n",
       "      <td>WARRANTS</td>\n",
       "      <td>WARRANT ARREST</td>\n",
       "      <td>Wednesday</td>\n",
       "      <td>NORTHERN</td>\n",
       "      <td>ARREST, BOOKED</td>\n",
       "      <td>OAK ST / LAGUNA ST</td>\n",
       "      <td>-122.425892</td>\n",
       "      <td>37.774599</td>\n",
       "    </tr>\n",
       "    <tr>\n",
       "      <th>1</th>\n",
       "      <td>2015-05-13 23:53:00</td>\n",
       "      <td>OTHER OFFENSES</td>\n",
       "      <td>TRAFFIC VIOLATION ARREST</td>\n",
       "      <td>Wednesday</td>\n",
       "      <td>NORTHERN</td>\n",
       "      <td>ARREST, BOOKED</td>\n",
       "      <td>OAK ST / LAGUNA ST</td>\n",
       "      <td>-122.425892</td>\n",
       "      <td>37.774599</td>\n",
       "    </tr>\n",
       "    <tr>\n",
       "      <th>2</th>\n",
       "      <td>2015-05-13 23:33:00</td>\n",
       "      <td>OTHER OFFENSES</td>\n",
       "      <td>TRAFFIC VIOLATION ARREST</td>\n",
       "      <td>Wednesday</td>\n",
       "      <td>NORTHERN</td>\n",
       "      <td>ARREST, BOOKED</td>\n",
       "      <td>VANNESS AV / GREENWICH ST</td>\n",
       "      <td>-122.424363</td>\n",
       "      <td>37.800414</td>\n",
       "    </tr>\n",
       "    <tr>\n",
       "      <th>3</th>\n",
       "      <td>2015-05-13 23:30:00</td>\n",
       "      <td>LARCENY/THEFT</td>\n",
       "      <td>GRAND THEFT FROM LOCKED AUTO</td>\n",
       "      <td>Wednesday</td>\n",
       "      <td>NORTHERN</td>\n",
       "      <td>NONE</td>\n",
       "      <td>1500 Block of LOMBARD ST</td>\n",
       "      <td>-122.426995</td>\n",
       "      <td>37.800873</td>\n",
       "    </tr>\n",
       "    <tr>\n",
       "      <th>4</th>\n",
       "      <td>2015-05-13 23:30:00</td>\n",
       "      <td>LARCENY/THEFT</td>\n",
       "      <td>GRAND THEFT FROM LOCKED AUTO</td>\n",
       "      <td>Wednesday</td>\n",
       "      <td>PARK</td>\n",
       "      <td>NONE</td>\n",
       "      <td>100 Block of BRODERICK ST</td>\n",
       "      <td>-122.438738</td>\n",
       "      <td>37.771541</td>\n",
       "    </tr>\n",
       "  </tbody>\n",
       "</table>\n",
       "</div>"
      ],
      "text/plain": [
       "                 Dates        Category                      Descript  \\\n",
       "0  2015-05-13 23:53:00        WARRANTS                WARRANT ARREST   \n",
       "1  2015-05-13 23:53:00  OTHER OFFENSES      TRAFFIC VIOLATION ARREST   \n",
       "2  2015-05-13 23:33:00  OTHER OFFENSES      TRAFFIC VIOLATION ARREST   \n",
       "3  2015-05-13 23:30:00   LARCENY/THEFT  GRAND THEFT FROM LOCKED AUTO   \n",
       "4  2015-05-13 23:30:00   LARCENY/THEFT  GRAND THEFT FROM LOCKED AUTO   \n",
       "\n",
       "   DayOfWeek PdDistrict      Resolution                    Address  \\\n",
       "0  Wednesday   NORTHERN  ARREST, BOOKED         OAK ST / LAGUNA ST   \n",
       "1  Wednesday   NORTHERN  ARREST, BOOKED         OAK ST / LAGUNA ST   \n",
       "2  Wednesday   NORTHERN  ARREST, BOOKED  VANNESS AV / GREENWICH ST   \n",
       "3  Wednesday   NORTHERN            NONE   1500 Block of LOMBARD ST   \n",
       "4  Wednesday       PARK            NONE  100 Block of BRODERICK ST   \n",
       "\n",
       "            X          Y  \n",
       "0 -122.425892  37.774599  \n",
       "1 -122.425892  37.774599  \n",
       "2 -122.424363  37.800414  \n",
       "3 -122.426995  37.800873  \n",
       "4 -122.438738  37.771541  "
      ]
     },
     "execution_count": 4,
     "metadata": {},
     "output_type": "execute_result"
    }
   ],
   "source": [
    "crime.head()"
   ]
  },
  {
   "cell_type": "markdown",
   "metadata": {},
   "source": [
    "## Model Visualization\n",
    "\n",
    "After you fit a model, you can compute the accuracy of your model by using the `model.score` function.  This will give you back a single number that indicates the quality of the model.  However, this in and of itself may not be terribly useful.\n",
    "\n",
    "Suppose, you tried a new model and the performance went up.  What phenomena in the data might be driving this change in performance?  Suppose, you actually want to use the machine learning model as a way to gain greater insight into the data.  How can you inspect the model to better understand the relationships between the variables within?\n",
    "\n",
    "This brings us to the topic of model visualization (also called model introspection).  In the next two sections we will be doing model visualization for two types of models: logistic regression models and decision tree models."
   ]
  },
  {
   "cell_type": "markdown",
   "metadata": {},
   "source": [
    "For this section we will use the Rotten Tomatoes dataset.  The specific encoding of text to features that we will be using is [TF-IDF](https://en.wikipedia.org/wiki/Tf%E2%80%93idf).  You will recall that we built our own TF-IDF vectorizer in class last week.  Here, we will be using the vectorizer built into scikit learn."
   ]
  },
  {
   "cell_type": "code",
   "execution_count": 5,
   "metadata": {
    "collapsed": false
   },
   "outputs": [
    {
     "data": {
      "text/plain": [
       "TfidfVectorizer(analyzer=u'word', binary=False, decode_error=u'strict',\n",
       "        dtype=<type 'numpy.int64'>, encoding=u'utf-8', input=u'content',\n",
       "        lowercase=True, max_df=1.0, max_features=None, min_df=1,\n",
       "        ngram_range=(1, 1), norm=u'l2', preprocessor=None, smooth_idf=True,\n",
       "        stop_words=None, strip_accents=None, sublinear_tf=False,\n",
       "        token_pattern=u'(?u)\\\\b\\\\w\\\\w+\\\\b', tokenizer=None, use_idf=True,\n",
       "        vocabulary=None)"
      ]
     },
     "execution_count": 5,
     "metadata": {},
     "output_type": "execute_result"
    }
   ],
   "source": [
    "from sklearn.feature_extraction.text import TfidfVectorizer\n",
    "\n",
    "vectorizer = TfidfVectorizer()\n",
    "vectorizer.fit(tomatoes.Phrase)"
   ]
  },
  {
   "cell_type": "markdown",
   "metadata": {},
   "source": [
    "To better understand what we just did let's take a look at the list of features names for this vectorizer.  These feature names are a list that shows us which column in the TF-IDF output corresponds to which word.  To avoid producing too much output, let's just look at a subset."
   ]
  },
  {
   "cell_type": "code",
   "execution_count": 6,
   "metadata": {
    "collapsed": false
   },
   "outputs": [
    {
     "data": {
      "text/plain": [
       "[u'authority',\n",
       " u'autistic',\n",
       " u'auto',\n",
       " u'autobiographical',\n",
       " u'autocritique',\n",
       " u'automatic',\n",
       " u'automatically',\n",
       " u'autopilot',\n",
       " u'autopsy',\n",
       " u'available',\n",
       " u'avalanche',\n",
       " u'avalanches',\n",
       " u'avant',\n",
       " u'avarice',\n",
       " u'avary',\n",
       " u'avengers',\n",
       " u'avenues',\n",
       " u'average',\n",
       " u'averse',\n",
       " u'aversion']"
      ]
     },
     "execution_count": 6,
     "metadata": {},
     "output_type": "execute_result"
    }
   ],
   "source": [
    "vectorizer.get_feature_names()[1000:1020]"
   ]
  },
  {
   "cell_type": "markdown",
   "metadata": {},
   "source": [
    "### Visualizing a Logistic Regression Model"
   ]
  },
  {
   "cell_type": "markdown",
   "metadata": {},
   "source": [
    "Next, we transform the individual phrases using our vectorizer, create a train test split, and fit a logistic regression model."
   ]
  },
  {
   "cell_type": "code",
   "execution_count": 7,
   "metadata": {
    "collapsed": false
   },
   "outputs": [
    {
     "data": {
      "text/plain": [
       "0.62336280917595799"
      ]
     },
     "execution_count": 7,
     "metadata": {},
     "output_type": "execute_result"
    }
   ],
   "source": [
    "from sklearn.linear_model import LogisticRegression\n",
    "from sklearn.cross_validation import train_test_split\n",
    "\n",
    "X = vectorizer.transform(tomatoes.Phrase)\n",
    "y = tomatoes.Sentiment\n",
    "X_train, X_test, y_train, y_test = train_test_split(X, y, train_size=0.5)\n",
    "model = LogisticRegression(multi_class='multinomial', solver='newton-cg')\n",
    "model.fit(X_train, y_train)\n",
    "model.score(X_test, y_test)"
   ]
  },
  {
   "cell_type": "markdown",
   "metadata": {},
   "source": [
    "Next, we'll visualize the learned model using a wordcloud.  First, install the wordcloud generator using pip install.\n",
    "\n",
    "`pip install wordcloud`\n",
    "\n",
    "Typically, a word cloud shows words scaled by their frequency in a document.  Here, we will be using the weights learned by our logistic regression model to scale the size of the words.  You can understand these visuals to make words larger if they have a *greater positive contribution to predicting a particular sentiment value*.\n",
    "\n",
    "Before we do this, let's take a look at our logistic regression model in more detail so we can understand more what's going on under the hood."
   ]
  },
  {
   "cell_type": "code",
   "execution_count": 8,
   "metadata": {
    "collapsed": false
   },
   "outputs": [
    {
     "name": "stdout",
     "output_type": "stream",
     "text": [
      "coefficients [[ 0.31075238  0.5359686  -0.50775881 ..., -0.04004379 -0.04113721  0.        ]\n",
      " [-0.36208935  0.44456992  0.02042782 ..., -0.16545889 -0.09626213  0.        ]\n",
      " [ 0.3740686  -0.34128828  0.39242386 ...,  0.23772723  0.09523566  0.        ]\n",
      " [-0.15588274 -0.4037369   0.68916175 ...,  0.05096342  0.07768249  0.        ]\n",
      " [-0.1668489  -0.23551334 -0.59425462 ..., -0.08318797 -0.03551881  0.        ]]\n",
      "coefficients.shape (5, 15240)\n",
      "intercepts [-1.68177617  0.25670798  2.60782407  0.44465542 -1.6274113 ]\n",
      "intercepts.shape (5,)\n"
     ]
    }
   ],
   "source": [
    "print \"coefficients\", model.coef_\n",
    "print \"coefficients.shape\", model.coef_.shape\n",
    "print \"intercepts\", model.intercept_\n",
    "print \"intercepts.shape\", model.intercept_.shape"
   ]
  },
  {
   "cell_type": "code",
   "execution_count": 9,
   "metadata": {
    "collapsed": false
   },
   "outputs": [
    {
     "name": "stdout",
     "output_type": "stream",
     "text": [
      "model probs [[ 0.01927359  0.10015886  0.69842747  0.1544791   0.02766099]]\n",
      "calculated probs [[ 0.01927359]\n",
      " [ 0.10015886]\n",
      " [ 0.69842747]\n",
      " [ 0.1544791 ]\n",
      " [ 0.02766099]]\n"
     ]
    }
   ],
   "source": [
    "import math\n",
    "import numpy as np\n",
    "\n",
    "print \"model probs\", model.predict_proba(X_test[0,:])\n",
    "linear = model.coef_.dot(X_test[0,:].todense().T) + model.intercept_[:,np.newaxis]\n",
    "print \"calculated probs\", np.exp(linear) / np.sum(np.exp(linear))"
   ]
  },
  {
   "cell_type": "markdown",
   "metadata": {},
   "source": [
    "Now that we've built up some intuition for `model.coef_`, let's visualize these coefficients using a wordcloud!"
   ]
  },
  {
   "cell_type": "code",
   "execution_count": 10,
   "metadata": {
    "collapsed": false
   },
   "outputs": [],
   "source": [
    "import wordcloud\n",
    "\n",
    "def make_word_cloud(feature_names, coefficients):\n",
    "    \"\"\" Create a word cloud with the words given by feature_names\n",
    "        and given coefficients. \"\"\"\n",
    "    cloud = wordcloud.WordCloud()\n",
    "    cloud.generate_from_frequencies(zip(feature_names, coefficients))\n",
    "    return cloud.to_image()"
   ]
  },
  {
   "cell_type": "code",
   "execution_count": 23,
   "metadata": {
    "collapsed": false
   },
   "outputs": [],
   "source": [
    "# Word cloud for sentiment value 0 (worst possible)\n",
    "make_word_cloud(vectorizer.get_feature_names(), model.coef_[0,:]).show()"
   ]
  },
  {
   "cell_type": "code",
   "execution_count": 14,
   "metadata": {
    "collapsed": false
   },
   "outputs": [
    {
     "data": {
      "text/plain": [
       "<PIL.Image.Image image mode=RGB size=400x200 at 0x95CA320>"
      ]
     },
     "execution_count": 14,
     "metadata": {},
     "output_type": "execute_result"
    }
   ],
   "source": [
    "# Word cloud for sentiment value 1\n",
    "make_word_cloud(vectorizer.get_feature_names(), model.coef_[1,:])"
   ]
  },
  {
   "cell_type": "code",
   "execution_count": null,
   "metadata": {
    "collapsed": false
   },
   "outputs": [],
   "source": [
    "# Word cloud for sentiment value 2\n",
    "make_word_cloud(vectorizer.get_feature_names(), model.coef_[2,:])"
   ]
  },
  {
   "cell_type": "code",
   "execution_count": null,
   "metadata": {
    "collapsed": false
   },
   "outputs": [],
   "source": [
    "# Word cloud for sentiment value 3\n",
    "make_word_cloud(vectorizer.get_feature_names(), model.coef_[3,:])"
   ]
  },
  {
   "cell_type": "code",
   "execution_count": null,
   "metadata": {
    "collapsed": false,
    "scrolled": true
   },
   "outputs": [],
   "source": [
    "# Word cloud for sentiment value 4 (best possible)\n",
    "make_word_cloud(vectorizer.get_feature_names(), model.coef_[4,:])"
   ]
  },
  {
   "cell_type": "markdown",
   "metadata": {},
   "source": [
    "### Visualizing a Logistic Regression Model for SF Crime\n",
    "\n",
    "Next, we'll do a quick spin through the SF Crime dataset to see another example of visualizing a learned model."
   ]
  },
  {
   "cell_type": "code",
   "execution_count": 25,
   "metadata": {
    "collapsed": false
   },
   "outputs": [
    {
     "data": {
      "text/plain": [
       "LogisticRegression(C=1.0, class_weight=None, dual=False, fit_intercept=True,\n",
       "          intercept_scaling=1, max_iter=100, multi_class='multinomial',\n",
       "          n_jobs=1, penalty='l2', random_state=None, solver='newton-cg',\n",
       "          tol=0.0001, verbose=0, warm_start=False)"
      ]
     },
     "execution_count": 25,
     "metadata": {},
     "output_type": "execute_result"
    }
   ],
   "source": [
    "from sklearn.metrics import log_loss\n",
    "\n",
    "X_crime = pd.get_dummies(crime.DayOfWeek)\n",
    "y_crime = crime.Category\n",
    "\n",
    "X_crime_train, X_crime_test, y_crime_train, y_crime_test = \\\n",
    "    train_test_split(X_crime, y_crime, train_size=.05)\n",
    "model_crime = LogisticRegression(multi_class='multinomial', solver='newton-cg')\n",
    "model_crime.fit(X_crime_train, y_crime_train)"
   ]
  },
  {
   "cell_type": "code",
   "execution_count": 26,
   "metadata": {
    "collapsed": false
   },
   "outputs": [
    {
     "name": "stderr",
     "output_type": "stream",
     "text": [
      "/usr/local/lib/python2.7/dist-packages/matplotlib/__init__.py:872: UserWarning: axes.color_cycle is deprecated and replaced with axes.prop_cycle; please use the latter.\n",
      "  warnings.warn(self.msg_depr % (key, alt_key))\n"
     ]
    },
    {
     "data": {
      "text/plain": [
       "<matplotlib.axes._subplots.AxesSubplot at 0x8e03ad0>"
      ]
     },
     "execution_count": 26,
     "metadata": {},
     "output_type": "execute_result"
    },
    {
     "data": {
      "image/png": "[encoded data removed]",
      "text/plain": [
       "<matplotlib.figure.Figure at 0x8e03190>"
      ]
     },
     "metadata": {},
     "output_type": "display_data"
    }
   ],
   "source": [
    "from sklearn.metrics import log_loss\n",
    "import seaborn as sbs\n",
    "\n",
    "sbs.plt.figure(figsize=(8,8))\n",
    "model_crime.classes_\n",
    "sbs.heatmap(model_crime.coef_,\n",
    "            xticklabels=X_crime.columns,\n",
    "            yticklabels=model_crime.classes_)"
   ]
  },
  {
   "cell_type": "markdown",
   "metadata": {},
   "source": [
    "### Visualizing a Decision Tree\n",
    "\n",
    "Next, we will build a decision tree and use it to visualize the data.  In order to make the visualization tractable, we will make the decision tree relatively small.  However, there are lots of folks that are thinking about how to visualize larger decision trees (even random forests which combine multiple decision trees).  One of these students is our own Michael Bocamazo.  He's on leave doing an LOA, but maybe he'll be willing to provide suggestions down the line."
   ]
  },
  {
   "cell_type": "code",
   "execution_count": 27,
   "metadata": {
    "collapsed": false
   },
   "outputs": [
    {
     "data": {
      "text/plain": [
       "DecisionTreeClassifier(class_weight=None, criterion='gini', max_depth=4,\n",
       "            max_features=None, max_leaf_nodes=None, min_samples_leaf=1,\n",
       "            min_samples_split=2, min_weight_fraction_leaf=0.0,\n",
       "            presort=False, random_state=None, splitter='best')"
      ]
     },
     "execution_count": 27,
     "metadata": {},
     "output_type": "execute_result"
    }
   ],
   "source": [
    "from sklearn.tree import export_graphviz\n",
    "from sklearn.tree import DecisionTreeClassifier\n",
    "\n",
    "tree_model = DecisionTreeClassifier(max_depth=4)\n",
    "tree_model.fit(X_train, y_train)"
   ]
  },
  {
   "cell_type": "markdown",
   "metadata": {},
   "source": [
    "The easiest way to visualize a decision tree is to simply visualize the individual nodes in the tree graphically.  For small trees this exhaustive approach can work.  We will use the popular library graphviz to do this visualization.  Sklearn has a built in converter from the DecisionTree class to a graphviz dot file.  We will then use some ipython magic to render the graph in our notebook."
   ]
  },
  {
   "cell_type": "code",
   "execution_count": 28,
   "metadata": {
    "collapsed": false
   },
   "outputs": [],
   "source": [
    "export_graphviz(tree_model, feature_names=vectorizer.get_feature_names(), out_file='tree.dot')"
   ]
  },
  {
   "cell_type": "code",
   "execution_count": 29,
   "metadata": {
    "collapsed": false
   },
   "outputs": [
    {
     "name": "stdout",
     "output_type": "stream",
     "text": [
      "Installed gvmagic.py. To use it, type:\n",
      "  %load_ext gvmagic\n"
     ]
    },
    {
     "name": "stderr",
     "output_type": "stream",
     "text": [
      "/usr/local/lib/python2.7/dist-packages/IPython/core/magics/extension.py:47: UserWarning: %install_ext` is deprecated, please distribute your extension(s)as a python packages.\n",
      "  \"as a python packages.\", UserWarning)\n"
     ]
    }
   ],
   "source": [
    "%install_ext https://raw.github.com/cjdrake/ipython-magic/master/gvmagic.py\n",
    "%load_ext gvmagic"
   ]
  },
  {
   "cell_type": "code",
   "execution_count": 30,
   "metadata": {
    "collapsed": false,
    "scrolled": false
   },
   "outputs": [
    {
     "data": {
      "image/svg+xml": [
       "<?xml version=\"1.0\" encoding=\"UTF-8\" standalone=\"no\"?>\n",
       "<!DOCTYPE svg PUBLIC \"-//W3C//DTD SVG 1.1//EN\"\n",
       " \"http://www.w3.org/Graphics/SVG/1.1/DTD/svg11.dtd\">\n",
       "<!-- Generated by graphviz version 2.26.3 (20100126.1600)\n",
       " -->\n",
       "<!-- Title: Tree Pages: 1 -->\n",
       "<svg width=\"3940pt\" height=\"534pt\"\n",
       " viewBox=\"0.00 0.00 3940.00 534.00\" xmlns=\"http://www.w3.org/2000/svg\" xmlns:xlink=\"http://www.w3.org/1999/xlink\">\n",
       "<g id=\"graph1\" class=\"graph\" transform=\"scale(1 1) rotate(0) translate(4 530)\">\n",
       "<title>Tree</title>\n",
       "<polygon fill=\"white\" stroke=\"white\" points=\"-4,5 -4,-530 3937,-530 3937,5 -4,5\"/>\n",
       "<!-- 0 -->\n",
       "<g id=\"node1\" class=\"node\"><title>0</title>\n",
       "<polygon fill=\"none\" stroke=\"black\" points=\"2253,-526 1925,-526 1925,-446 2253,-446 2253,-526\"/>\n",
       "<text text-anchor=\"middle\" x=\"2089\" y=\"-509.4\" font-family=\"Times Roman,serif\" font-size=\"14.00\">and &lt;= 0.0274</text>\n",
       "<text text-anchor=\"middle\" x=\"2089\" y=\"-491.4\" font-family=\"Times Roman,serif\" font-size=\"14.00\">gini = 0.6593</text>\n",
       "<text text-anchor=\"middle\" x=\"2089\" y=\"-473.4\" font-family=\"Times Roman,serif\" font-size=\"14.00\">samples = 78030</text>\n",
       "<text text-anchor=\"middle\" x=\"2089\" y=\"-455.4\" font-family=\"Times Roman,serif\" font-size=\"14.00\">value = [3471, 13606, 39790, 16499, 4664]</text>\n",
       "</g>\n",
       "<!-- 1 -->\n",
       "<g id=\"node2\" class=\"node\"><title>1</title>\n",
       "<polygon fill=\"none\" stroke=\"black\" points=\"1783,-410 1455,-410 1455,-330 1783,-330 1783,-410\"/>\n",
       "<text text-anchor=\"middle\" x=\"1619\" y=\"-393.4\" font-family=\"Times Roman,serif\" font-size=\"14.00\">is &lt;= 0.0385</text>\n",
       "<text text-anchor=\"middle\" x=\"1619\" y=\"-375.4\" font-family=\"Times Roman,serif\" font-size=\"14.00\">gini = 0.6256</text>\n",
       "<text text-anchor=\"middle\" x=\"1619\" y=\"-357.4\" font-family=\"Times Roman,serif\" font-size=\"14.00\">samples = 63581</text>\n",
       "<text text-anchor=\"middle\" x=\"1619\" y=\"-339.4\" font-family=\"Times Roman,serif\" font-size=\"14.00\">value = [2374, 10789, 35044, 12436, 2938]</text>\n",
       "</g>\n",
       "<!-- 0&#45;&gt;1 -->\n",
       "<g id=\"edge2\" class=\"edge\"><title>0&#45;&gt;1</title>\n",
       "<path fill=\"none\" stroke=\"black\" d=\"M1926.92,-445.998C1883.03,-435.165 1835.37,-423.401 1790.95,-412.439\"/>\n",
       "<polygon fill=\"black\" stroke=\"black\" points=\"1791.78,-409.038 1781.23,-410.039 1790.1,-415.834 1791.78,-409.038\"/>\n",
       "<text text-anchor=\"middle\" x=\"1794.16\" y=\"-427.838\" font-family=\"Times Roman,serif\" font-size=\"14.00\">True</text>\n",
       "</g>\n",
       "<!-- 16 -->\n",
       "<g id=\"node32\" class=\"node\"><title>16</title>\n",
       "<polygon fill=\"none\" stroke=\"black\" points=\"2741,-410 2439,-410 2439,-330 2741,-330 2741,-410\"/>\n",
       "<text text-anchor=\"middle\" x=\"2590\" y=\"-393.4\" font-family=\"Times Roman,serif\" font-size=\"14.00\">and &lt;= 0.1767</text>\n",
       "<text text-anchor=\"middle\" x=\"2590\" y=\"-375.4\" font-family=\"Times Roman,serif\" font-size=\"14.00\">gini = 0.755</text>\n",
       "<text text-anchor=\"middle\" x=\"2590\" y=\"-357.4\" font-family=\"Times Roman,serif\" font-size=\"14.00\">samples = 14449</text>\n",
       "<text text-anchor=\"middle\" x=\"2590\" y=\"-339.4\" font-family=\"Times Roman,serif\" font-size=\"14.00\">value = [1097, 2817, 4746, 4063, 1726]</text>\n",
       "</g>\n",
       "<!-- 0&#45;&gt;16 -->\n",
       "<g id=\"edge32\" class=\"edge\"><title>0&#45;&gt;16</title>\n",
       "<path fill=\"none\" stroke=\"black\" d=\"M2253.05,-448.017C2309.45,-434.959 2372.51,-420.357 2428.69,-407.349\"/>\n",
       "<polygon fill=\"black\" stroke=\"black\" points=\"2429.78,-410.689 2438.73,-405.024 2428.2,-403.87 2429.78,-410.689\"/>\n",
       "<text text-anchor=\"middle\" x=\"2425.5\" y=\"-422.633\" font-family=\"Times Roman,serif\" font-size=\"14.00\">False</text>\n",
       "</g>\n",
       "<!-- 2 -->\n",
       "<g id=\"node4\" class=\"node\"><title>2</title>\n",
       "<polygon fill=\"none\" stroke=\"black\" points=\"1032,-294 712,-294 712,-214 1032,-214 1032,-294\"/>\n",
       "<text text-anchor=\"middle\" x=\"872\" y=\"-277.4\" font-family=\"Times Roman,serif\" font-size=\"14.00\">that &lt;= 0.0779</text>\n",
       "<text text-anchor=\"middle\" x=\"872\" y=\"-259.4\" font-family=\"Times Roman,serif\" font-size=\"14.00\">gini = 0.6109</text>\n",
       "<text text-anchor=\"middle\" x=\"872\" y=\"-241.4\" font-family=\"Times Roman,serif\" font-size=\"14.00\">samples = 59247</text>\n",
       "<text text-anchor=\"middle\" x=\"872\" y=\"-223.4\" font-family=\"Times Roman,serif\" font-size=\"14.00\">value = [2018, 9656, 33651, 11395, 2527]</text>\n",
       "</g>\n",
       "<!-- 1&#45;&gt;2 -->\n",
       "<g id=\"edge4\" class=\"edge\"><title>1&#45;&gt;2</title>\n",
       "<path fill=\"none\" stroke=\"black\" d=\"M1454.61,-344.472C1332.27,-325.474 1165.78,-299.62 1042.1,-280.414\"/>\n",
       "<polygon fill=\"black\" stroke=\"black\" points=\"1042.56,-276.945 1032.15,-278.869 1041.49,-283.862 1042.56,-276.945\"/>\n",
       "</g>\n",
       "<!-- 9 -->\n",
       "<g id=\"node18\" class=\"node\"><title>9</title>\n",
       "<polygon fill=\"none\" stroke=\"black\" points=\"1761,-294 1477,-294 1477,-214 1761,-214 1761,-294\"/>\n",
       "<text text-anchor=\"middle\" x=\"1619\" y=\"-277.4\" font-family=\"Times Roman,serif\" font-size=\"14.00\">too &lt;= 0.0709</text>\n",
       "<text text-anchor=\"middle\" x=\"1619\" y=\"-259.4\" font-family=\"Times Roman,serif\" font-size=\"14.00\">gini = 0.7549</text>\n",
       "<text text-anchor=\"middle\" x=\"1619\" y=\"-241.4\" font-family=\"Times Roman,serif\" font-size=\"14.00\">samples = 4334</text>\n",
       "<text text-anchor=\"middle\" x=\"1619\" y=\"-223.4\" font-family=\"Times Roman,serif\" font-size=\"14.00\">value = [356, 1133, 1393, 1041, 411]</text>\n",
       "</g>\n",
       "<!-- 1&#45;&gt;9 -->\n",
       "<g id=\"edge18\" class=\"edge\"><title>1&#45;&gt;9</title>\n",
       "<path fill=\"none\" stroke=\"black\" d=\"M1619,-329.754C1619,-321.567 1619,-312.856 1619,-304.368\"/>\n",
       "<polygon fill=\"black\" stroke=\"black\" points=\"1622.5,-304.174 1619,-294.174 1615.5,-304.175 1622.5,-304.174\"/>\n",
       "</g>\n",
       "<!-- 3 -->\n",
       "<g id=\"node6\" class=\"node\"><title>3</title>\n",
       "<polygon fill=\"none\" stroke=\"black\" points=\"613,-178 293,-178 293,-98 613,-98 613,-178\"/>\n",
       "<text text-anchor=\"middle\" x=\"453\" y=\"-161.4\" font-family=\"Times Roman,serif\" font-size=\"14.00\">good &lt;= 0.2139</text>\n",
       "<text text-anchor=\"middle\" x=\"453\" y=\"-143.4\" font-family=\"Times Roman,serif\" font-size=\"14.00\">gini = 0.6009</text>\n",
       "<text text-anchor=\"middle\" x=\"453\" y=\"-125.4\" font-family=\"Times Roman,serif\" font-size=\"14.00\">samples = 56204</text>\n",
       "<text text-anchor=\"middle\" x=\"453\" y=\"-107.4\" font-family=\"Times Roman,serif\" font-size=\"14.00\">value = [1788, 8873, 32555, 10662, 2326]</text>\n",
       "</g>\n",
       "<!-- 2&#45;&gt;3 -->\n",
       "<g id=\"edge6\" class=\"edge\"><title>2&#45;&gt;3</title>\n",
       "<path fill=\"none\" stroke=\"black\" d=\"M727.511,-213.998C688.79,-203.278 646.78,-191.648 607.539,-180.784\"/>\n",
       "<polygon fill=\"black\" stroke=\"black\" points=\"608.197,-177.335 597.625,-178.039 606.329,-184.081 608.197,-177.335\"/>\n",
       "</g>\n",
       "<!-- 6 -->\n",
       "<g id=\"node12\" class=\"node\"><title>6</title>\n",
       "<polygon fill=\"none\" stroke=\"black\" points=\"1005,-178 739,-178 739,-98 1005,-98 1005,-178\"/>\n",
       "<text text-anchor=\"middle\" x=\"872\" y=\"-161.4\" font-family=\"Times Roman,serif\" font-size=\"14.00\">that &lt;= 0.186</text>\n",
       "<text text-anchor=\"middle\" x=\"872\" y=\"-143.4\" font-family=\"Times Roman,serif\" font-size=\"14.00\">gini = 0.736</text>\n",
       "<text text-anchor=\"middle\" x=\"872\" y=\"-125.4\" font-family=\"Times Roman,serif\" font-size=\"14.00\">samples = 3043</text>\n",
       "<text text-anchor=\"middle\" x=\"872\" y=\"-107.4\" font-family=\"Times Roman,serif\" font-size=\"14.00\">value = [230, 783, 1096, 733, 201]</text>\n",
       "</g>\n",
       "<!-- 2&#45;&gt;6 -->\n",
       "<g id=\"edge12\" class=\"edge\"><title>2&#45;&gt;6</title>\n",
       "<path fill=\"none\" stroke=\"black\" d=\"M872,-213.754C872,-205.567 872,-196.856 872,-188.368\"/>\n",
       "<polygon fill=\"black\" stroke=\"black\" points=\"875.5,-188.174 872,-178.174 868.5,-188.175 875.5,-188.174\"/>\n",
       "</g>\n",
       "<!-- 4 -->\n",
       "<g id=\"node8\" class=\"node\"><title>4</title>\n",
       "<polygon fill=\"none\" stroke=\"black\" points=\"320,-62 1.42109e-13,-62 0,-3.19744e-14 320,-7.10543e-15 320,-62\"/>\n",
       "<text text-anchor=\"middle\" x=\"160\" y=\"-45.4\" font-family=\"Times Roman,serif\" font-size=\"14.00\">gini = 0.5978</text>\n",
       "<text text-anchor=\"middle\" x=\"160\" y=\"-27.4\" font-family=\"Times Roman,serif\" font-size=\"14.00\">samples = 55650</text>\n",
       "<text text-anchor=\"middle\" x=\"160\" y=\"-9.4\" font-family=\"Times Roman,serif\" font-size=\"14.00\">value = [1770, 8821, 32435, 10360, 2264]</text>\n",
       "</g>\n",
       "<!-- 3&#45;&gt;4 -->\n",
       "<g id=\"edge8\" class=\"edge\"><title>3&#45;&gt;4</title>\n",
       "<path fill=\"none\" stroke=\"black\" d=\"M343.064,-97.8527C313.886,-87.1972 282.64,-75.7868 254.373,-65.4637\"/>\n",
       "<polygon fill=\"black\" stroke=\"black\" points=\"255.501,-62.1499 244.908,-62.0072 253.1,-68.7252 255.501,-62.1499\"/>\n",
       "</g>\n",
       "<!-- 5 -->\n",
       "<g id=\"node10\" class=\"node\"><title>5</title>\n",
       "<polygon fill=\"none\" stroke=\"black\" points=\"568,-62 338,-62 338,-3.19744e-14 568,-7.10543e-15 568,-62\"/>\n",
       "<text text-anchor=\"middle\" x=\"453\" y=\"-45.4\" font-family=\"Times Roman,serif\" font-size=\"14.00\">gini = 0.6335</text>\n",
       "<text text-anchor=\"middle\" x=\"453\" y=\"-27.4\" font-family=\"Times Roman,serif\" font-size=\"14.00\">samples = 554</text>\n",
       "<text text-anchor=\"middle\" x=\"453\" y=\"-9.4\" font-family=\"Times Roman,serif\" font-size=\"14.00\">value = [18, 52, 120, 302, 62]</text>\n",
       "</g>\n",
       "<!-- 3&#45;&gt;5 -->\n",
       "<g id=\"edge10\" class=\"edge\"><title>3&#45;&gt;5</title>\n",
       "<path fill=\"none\" stroke=\"black\" d=\"M453,-97.8527C453,-89.421 453,-80.5165 453,-72.0522\"/>\n",
       "<polygon fill=\"black\" stroke=\"black\" points=\"456.5,-72.0072 453,-62.0072 449.5,-72.0072 456.5,-72.0072\"/>\n",
       "</g>\n",
       "<!-- 7 -->\n",
       "<g id=\"node14\" class=\"node\"><title>7</title>\n",
       "<polygon fill=\"none\" stroke=\"black\" points=\"842,-62 586,-62 586,-3.19744e-14 842,-7.10543e-15 842,-62\"/>\n",
       "<text text-anchor=\"middle\" x=\"714\" y=\"-45.4\" font-family=\"Times Roman,serif\" font-size=\"14.00\">gini = 0.7567</text>\n",
       "<text text-anchor=\"middle\" x=\"714\" y=\"-27.4\" font-family=\"Times Roman,serif\" font-size=\"14.00\">samples = 1932</text>\n",
       "<text text-anchor=\"middle\" x=\"714\" y=\"-9.4\" font-family=\"Times Roman,serif\" font-size=\"14.00\">value = [195, 556, 555, 482, 144]</text>\n",
       "</g>\n",
       "<!-- 6&#45;&gt;7 -->\n",
       "<g id=\"edge14\" class=\"edge\"><title>6&#45;&gt;7</title>\n",
       "<path fill=\"none\" stroke=\"black\" d=\"M812.717,-97.8527C798.077,-87.9385 782.473,-77.3707 768.094,-67.6333\"/>\n",
       "<polygon fill=\"black\" stroke=\"black\" points=\"770.029,-64.7166 759.786,-62.0072 766.104,-70.5126 770.029,-64.7166\"/>\n",
       "</g>\n",
       "<!-- 8 -->\n",
       "<g id=\"node16\" class=\"node\"><title>8</title>\n",
       "<polygon fill=\"none\" stroke=\"black\" points=\"1098,-62 860,-62 860,-3.19744e-14 1098,-7.10543e-15 1098,-62\"/>\n",
       "<text text-anchor=\"middle\" x=\"979\" y=\"-45.4\" font-family=\"Times Roman,serif\" font-size=\"14.00\">gini = 0.6665</text>\n",
       "<text text-anchor=\"middle\" x=\"979\" y=\"-27.4\" font-family=\"Times Roman,serif\" font-size=\"14.00\">samples = 1111</text>\n",
       "<text text-anchor=\"middle\" x=\"979\" y=\"-9.4\" font-family=\"Times Roman,serif\" font-size=\"14.00\">value = [35, 227, 541, 251, 57]</text>\n",
       "</g>\n",
       "<!-- 6&#45;&gt;8 -->\n",
       "<g id=\"edge16\" class=\"edge\"><title>6&#45;&gt;8</title>\n",
       "<path fill=\"none\" stroke=\"black\" d=\"M912.147,-97.8527C921.506,-88.4944 931.446,-78.5538 940.721,-69.2789\"/>\n",
       "<polygon fill=\"black\" stroke=\"black\" points=\"943.397,-71.5532 947.993,-62.0072 938.447,-66.6034 943.397,-71.5532\"/>\n",
       "</g>\n",
       "<!-- 10 -->\n",
       "<g id=\"node20\" class=\"node\"><title>10</title>\n",
       "<polygon fill=\"none\" stroke=\"black\" points=\"1635,-178 1351,-178 1351,-98 1635,-98 1635,-178\"/>\n",
       "<text text-anchor=\"middle\" x=\"1493\" y=\"-161.4\" font-family=\"Times Roman,serif\" font-size=\"14.00\">is &lt;= 0.4268</text>\n",
       "<text text-anchor=\"middle\" x=\"1493\" y=\"-143.4\" font-family=\"Times Roman,serif\" font-size=\"14.00\">gini = 0.7554</text>\n",
       "<text text-anchor=\"middle\" x=\"1493\" y=\"-125.4\" font-family=\"Times Roman,serif\" font-size=\"14.00\">samples = 4233</text>\n",
       "<text text-anchor=\"middle\" x=\"1493\" y=\"-107.4\" font-family=\"Times Roman,serif\" font-size=\"14.00\">value = [349, 1064, 1373, 1037, 410]</text>\n",
       "</g>\n",
       "<!-- 9&#45;&gt;10 -->\n",
       "<g id=\"edge20\" class=\"edge\"><title>9&#45;&gt;10</title>\n",
       "<path fill=\"none\" stroke=\"black\" d=\"M1575.28,-213.754C1565.22,-204.487 1554.43,-194.55 1544.08,-185.023\"/>\n",
       "<polygon fill=\"black\" stroke=\"black\" points=\"1546.37,-182.373 1536.64,-178.174 1541.62,-187.523 1546.37,-182.373\"/>\n",
       "</g>\n",
       "<!-- 13 -->\n",
       "<g id=\"node26\" class=\"node\"><title>13</title>\n",
       "<polygon fill=\"none\" stroke=\"black\" points=\"1837,-178 1653,-178 1653,-98 1837,-98 1837,-178\"/>\n",
       "<text text-anchor=\"middle\" x=\"1745\" y=\"-161.4\" font-family=\"Times Roman,serif\" font-size=\"14.00\">the &lt;= 0.0784</text>\n",
       "<text text-anchor=\"middle\" x=\"1745\" y=\"-143.4\" font-family=\"Times Roman,serif\" font-size=\"14.00\">gini = 0.4876</text>\n",
       "<text text-anchor=\"middle\" x=\"1745\" y=\"-125.4\" font-family=\"Times Roman,serif\" font-size=\"14.00\">samples = 101</text>\n",
       "<text text-anchor=\"middle\" x=\"1745\" y=\"-107.4\" font-family=\"Times Roman,serif\" font-size=\"14.00\">value = [7, 69, 20, 4, 1]</text>\n",
       "</g>\n",
       "<!-- 9&#45;&gt;13 -->\n",
       "<g id=\"edge26\" class=\"edge\"><title>9&#45;&gt;13</title>\n",
       "<path fill=\"none\" stroke=\"black\" d=\"M1662.72,-213.754C1672.78,-204.487 1683.57,-194.55 1693.92,-185.023\"/>\n",
       "<polygon fill=\"black\" stroke=\"black\" points=\"1696.38,-187.523 1701.36,-178.174 1691.63,-182.373 1696.38,-187.523\"/>\n",
       "</g>\n",
       "<!-- 11 -->\n",
       "<g id=\"node22\" class=\"node\"><title>11</title>\n",
       "<polygon fill=\"none\" stroke=\"black\" points=\"1400,-62 1116,-62 1116,-3.19744e-14 1400,-7.10543e-15 1400,-62\"/>\n",
       "<text text-anchor=\"middle\" x=\"1258\" y=\"-45.4\" font-family=\"Times Roman,serif\" font-size=\"14.00\">gini = 0.7576</text>\n",
       "<text text-anchor=\"middle\" x=\"1258\" y=\"-27.4\" font-family=\"Times Roman,serif\" font-size=\"14.00\">samples = 4131</text>\n",
       "<text text-anchor=\"middle\" x=\"1258\" y=\"-9.4\" font-family=\"Times Roman,serif\" font-size=\"14.00\">value = [346, 1054, 1300, 1025, 406]</text>\n",
       "</g>\n",
       "<!-- 10&#45;&gt;11 -->\n",
       "<g id=\"edge22\" class=\"edge\"><title>10&#45;&gt;11</title>\n",
       "<path fill=\"none\" stroke=\"black\" d=\"M1404.83,-97.8527C1382.03,-87.4752 1357.67,-76.3816 1335.47,-66.2738\"/>\n",
       "<polygon fill=\"black\" stroke=\"black\" points=\"1336.65,-62.9658 1326.1,-62.0072 1333.75,-69.3365 1336.65,-62.9658\"/>\n",
       "</g>\n",
       "<!-- 12 -->\n",
       "<g id=\"node24\" class=\"node\"><title>12</title>\n",
       "<polygon fill=\"none\" stroke=\"black\" points=\"1612,-62 1418,-62 1418,-3.19744e-14 1612,-7.10543e-15 1612,-62\"/>\n",
       "<text text-anchor=\"middle\" x=\"1515\" y=\"-45.4\" font-family=\"Times Roman,serif\" font-size=\"14.00\">gini = 0.4619</text>\n",
       "<text text-anchor=\"middle\" x=\"1515\" y=\"-27.4\" font-family=\"Times Roman,serif\" font-size=\"14.00\">samples = 102</text>\n",
       "<text text-anchor=\"middle\" x=\"1515\" y=\"-9.4\" font-family=\"Times Roman,serif\" font-size=\"14.00\">value = [3, 10, 73, 12, 4]</text>\n",
       "</g>\n",
       "<!-- 10&#45;&gt;12 -->\n",
       "<g id=\"edge24\" class=\"edge\"><title>10&#45;&gt;12</title>\n",
       "<path fill=\"none\" stroke=\"black\" d=\"M1501.25,-97.8527C1502.99,-89.421 1504.82,-80.5165 1506.56,-72.0522\"/>\n",
       "<polygon fill=\"black\" stroke=\"black\" points=\"1510.04,-72.5072 1508.62,-62.0072 1503.18,-71.0974 1510.04,-72.5072\"/>\n",
       "</g>\n",
       "<!-- 14 -->\n",
       "<g id=\"node28\" class=\"node\"><title>14</title>\n",
       "<polygon fill=\"none\" stroke=\"black\" points=\"1814,-62 1630,-62 1630,-3.19744e-14 1814,-7.10543e-15 1814,-62\"/>\n",
       "<text text-anchor=\"middle\" x=\"1722\" y=\"-45.4\" font-family=\"Times Roman,serif\" font-size=\"14.00\">gini = 0.5844</text>\n",
       "<text text-anchor=\"middle\" x=\"1722\" y=\"-27.4\" font-family=\"Times Roman,serif\" font-size=\"14.00\">samples = 71</text>\n",
       "<text text-anchor=\"middle\" x=\"1722\" y=\"-9.4\" font-family=\"Times Roman,serif\" font-size=\"14.00\">value = [6, 41, 19, 4, 1]</text>\n",
       "</g>\n",
       "<!-- 13&#45;&gt;14 -->\n",
       "<g id=\"edge28\" class=\"edge\"><title>13&#45;&gt;14</title>\n",
       "<path fill=\"none\" stroke=\"black\" d=\"M1736.37,-97.8527C1734.56,-89.421 1732.64,-80.5165 1730.82,-72.0522\"/>\n",
       "<polygon fill=\"black\" stroke=\"black\" points=\"1734.19,-71.0483 1728.67,-62.0072 1727.34,-72.5195 1734.19,-71.0483\"/>\n",
       "</g>\n",
       "<!-- 15 -->\n",
       "<g id=\"node30\" class=\"node\"><title>15</title>\n",
       "<polygon fill=\"none\" stroke=\"black\" points=\"2008,-62 1832,-62 1832,-3.19744e-14 2008,-7.10543e-15 2008,-62\"/>\n",
       "<text text-anchor=\"middle\" x=\"1920\" y=\"-45.4\" font-family=\"Times Roman,serif\" font-size=\"14.00\">gini = 0.1267</text>\n",
       "<text text-anchor=\"middle\" x=\"1920\" y=\"-27.4\" font-family=\"Times Roman,serif\" font-size=\"14.00\">samples = 30</text>\n",
       "<text text-anchor=\"middle\" x=\"1920\" y=\"-9.4\" font-family=\"Times Roman,serif\" font-size=\"14.00\">value = [1, 28, 1, 0, 0]</text>\n",
       "</g>\n",
       "<!-- 13&#45;&gt;15 -->\n",
       "<g id=\"edge30\" class=\"edge\"><title>13&#45;&gt;15</title>\n",
       "<path fill=\"none\" stroke=\"black\" d=\"M1810.66,-97.8527C1827.03,-87.8458 1844.48,-77.1731 1860.53,-67.3605\"/>\n",
       "<polygon fill=\"black\" stroke=\"black\" points=\"1862.58,-70.2098 1869.29,-62.0072 1858.93,-64.2377 1862.58,-70.2098\"/>\n",
       "</g>\n",
       "<!-- 17 -->\n",
       "<g id=\"node34\" class=\"node\"><title>17</title>\n",
       "<polygon fill=\"none\" stroke=\"black\" points=\"2736,-294 2444,-294 2444,-214 2736,-214 2736,-294\"/>\n",
       "<text text-anchor=\"middle\" x=\"2590\" y=\"-277.4\" font-family=\"Times Roman,serif\" font-size=\"14.00\">too &lt;= 0.127</text>\n",
       "<text text-anchor=\"middle\" x=\"2590\" y=\"-259.4\" font-family=\"Times Roman,serif\" font-size=\"14.00\">gini = 0.7673</text>\n",
       "<text text-anchor=\"middle\" x=\"2590\" y=\"-241.4\" font-family=\"Times Roman,serif\" font-size=\"14.00\">samples = 10442</text>\n",
       "<text text-anchor=\"middle\" x=\"2590\" y=\"-223.4\" font-family=\"Times Roman,serif\" font-size=\"14.00\">value = [925, 2247, 2979, 2977, 1314]</text>\n",
       "</g>\n",
       "<!-- 16&#45;&gt;17 -->\n",
       "<g id=\"edge34\" class=\"edge\"><title>16&#45;&gt;17</title>\n",
       "<path fill=\"none\" stroke=\"black\" d=\"M2590,-329.754C2590,-321.567 2590,-312.856 2590,-304.368\"/>\n",
       "<polygon fill=\"black\" stroke=\"black\" points=\"2593.5,-304.174 2590,-294.174 2586.5,-304.175 2593.5,-304.174\"/>\n",
       "</g>\n",
       "<!-- 24 -->\n",
       "<g id=\"node48\" class=\"node\"><title>24</title>\n",
       "<polygon fill=\"none\" stroke=\"black\" points=\"3420,-294 3146,-294 3146,-214 3420,-214 3420,-294\"/>\n",
       "<text text-anchor=\"middle\" x=\"3283\" y=\"-277.4\" font-family=\"Times Roman,serif\" font-size=\"14.00\">funny &lt;= 0.0698</text>\n",
       "<text text-anchor=\"middle\" x=\"3283\" y=\"-259.4\" font-family=\"Times Roman,serif\" font-size=\"14.00\">gini = 0.6994</text>\n",
       "<text text-anchor=\"middle\" x=\"3283\" y=\"-241.4\" font-family=\"Times Roman,serif\" font-size=\"14.00\">samples = 4007</text>\n",
       "<text text-anchor=\"middle\" x=\"3283\" y=\"-223.4\" font-family=\"Times Roman,serif\" font-size=\"14.00\">value = [172, 570, 1767, 1086, 412]</text>\n",
       "</g>\n",
       "<!-- 16&#45;&gt;24 -->\n",
       "<g id=\"edge48\" class=\"edge\"><title>16&#45;&gt;24</title>\n",
       "<path fill=\"none\" stroke=\"black\" d=\"M2741.23,-344.687C2858.38,-325.076 3019.76,-298.063 3135.87,-278.627\"/>\n",
       "<polygon fill=\"black\" stroke=\"black\" points=\"3136.62,-282.051 3145.91,-276.948 3135.47,-275.147 3136.62,-282.051\"/>\n",
       "</g>\n",
       "<!-- 18 -->\n",
       "<g id=\"node36\" class=\"node\"><title>18</title>\n",
       "<polygon fill=\"none\" stroke=\"black\" points=\"2601,-178 2309,-178 2309,-98 2601,-98 2601,-178\"/>\n",
       "<text text-anchor=\"middle\" x=\"2455\" y=\"-161.4\" font-family=\"Times Roman,serif\" font-size=\"14.00\">is &lt;= 0.0855</text>\n",
       "<text text-anchor=\"middle\" x=\"2455\" y=\"-143.4\" font-family=\"Times Roman,serif\" font-size=\"14.00\">gini = 0.7662</text>\n",
       "<text text-anchor=\"middle\" x=\"2455\" y=\"-125.4\" font-family=\"Times Roman,serif\" font-size=\"14.00\">samples = 10161</text>\n",
       "<text text-anchor=\"middle\" x=\"2455\" y=\"-107.4\" font-family=\"Times Roman,serif\" font-size=\"14.00\">value = [882, 2101, 2921, 2951, 1306]</text>\n",
       "</g>\n",
       "<!-- 17&#45;&gt;18 -->\n",
       "<g id=\"edge36\" class=\"edge\"><title>17&#45;&gt;18</title>\n",
       "<path fill=\"none\" stroke=\"black\" d=\"M2543.16,-213.754C2532.27,-204.397 2520.59,-194.357 2509.4,-184.746\"/>\n",
       "<polygon fill=\"black\" stroke=\"black\" points=\"2511.62,-182.037 2501.75,-178.174 2507.06,-187.346 2511.62,-182.037\"/>\n",
       "</g>\n",
       "<!-- 21 -->\n",
       "<g id=\"node42\" class=\"node\"><title>21</title>\n",
       "<polygon fill=\"none\" stroke=\"black\" points=\"2831,-178 2619,-178 2619,-98 2831,-98 2831,-178\"/>\n",
       "<text text-anchor=\"middle\" x=\"2725\" y=\"-161.4\" font-family=\"Times Roman,serif\" font-size=\"14.00\">sweet &lt;= 0.1127</text>\n",
       "<text text-anchor=\"middle\" x=\"2725\" y=\"-143.4\" font-family=\"Times Roman,serif\" font-size=\"14.00\">gini = 0.6547</text>\n",
       "<text text-anchor=\"middle\" x=\"2725\" y=\"-125.4\" font-family=\"Times Roman,serif\" font-size=\"14.00\">samples = 281</text>\n",
       "<text text-anchor=\"middle\" x=\"2725\" y=\"-107.4\" font-family=\"Times Roman,serif\" font-size=\"14.00\">value = [43, 146, 58, 26, 8]</text>\n",
       "</g>\n",
       "<!-- 17&#45;&gt;21 -->\n",
       "<g id=\"edge42\" class=\"edge\"><title>17&#45;&gt;21</title>\n",
       "<path fill=\"none\" stroke=\"black\" d=\"M2636.84,-213.754C2647.73,-204.397 2659.41,-194.357 2670.6,-184.746\"/>\n",
       "<polygon fill=\"black\" stroke=\"black\" points=\"2672.94,-187.346 2678.25,-178.174 2668.38,-182.037 2672.94,-187.346\"/>\n",
       "</g>\n",
       "<!-- 19 -->\n",
       "<g id=\"node38\" class=\"node\"><title>19</title>\n",
       "<polygon fill=\"none\" stroke=\"black\" points=\"2318,-62 2026,-62 2026,-3.19744e-14 2318,-7.10543e-15 2318,-62\"/>\n",
       "<text text-anchor=\"middle\" x=\"2172\" y=\"-45.4\" font-family=\"Times Roman,serif\" font-size=\"14.00\">gini = 0.759</text>\n",
       "<text text-anchor=\"middle\" x=\"2172\" y=\"-27.4\" font-family=\"Times Roman,serif\" font-size=\"14.00\">samples = 8579</text>\n",
       "<text text-anchor=\"middle\" x=\"2172\" y=\"-9.4\" font-family=\"Times Roman,serif\" font-size=\"14.00\">value = [682, 1727, 2661, 2480, 1029]</text>\n",
       "</g>\n",
       "<!-- 18&#45;&gt;19 -->\n",
       "<g id=\"edge38\" class=\"edge\"><title>18&#45;&gt;19</title>\n",
       "<path fill=\"none\" stroke=\"black\" d=\"M2348.82,-97.8527C2320.76,-87.2436 2290.72,-75.886 2263.51,-65.5984\"/>\n",
       "<polygon fill=\"black\" stroke=\"black\" points=\"2264.6,-62.27 2254.01,-62.0072 2262.13,-68.8177 2264.6,-62.27\"/>\n",
       "</g>\n",
       "<!-- 20 -->\n",
       "<g id=\"node40\" class=\"node\"><title>20</title>\n",
       "<polygon fill=\"none\" stroke=\"black\" points=\"2592,-62 2336,-62 2336,-3.19744e-14 2592,-7.10543e-15 2592,-62\"/>\n",
       "<text text-anchor=\"middle\" x=\"2464\" y=\"-45.4\" font-family=\"Times Roman,serif\" font-size=\"14.00\">gini = 0.7818</text>\n",
       "<text text-anchor=\"middle\" x=\"2464\" y=\"-27.4\" font-family=\"Times Roman,serif\" font-size=\"14.00\">samples = 1582</text>\n",
       "<text text-anchor=\"middle\" x=\"2464\" y=\"-9.4\" font-family=\"Times Roman,serif\" font-size=\"14.00\">value = [200, 374, 260, 471, 277]</text>\n",
       "</g>\n",
       "<!-- 18&#45;&gt;20 -->\n",
       "<g id=\"edge40\" class=\"edge\"><title>18&#45;&gt;20</title>\n",
       "<path fill=\"none\" stroke=\"black\" d=\"M2458.38,-97.8527C2459.09,-89.421 2459.84,-80.5165 2460.55,-72.0522\"/>\n",
       "<polygon fill=\"black\" stroke=\"black\" points=\"2464.04,-72.2654 2461.39,-62.0072 2457.07,-71.6786 2464.04,-72.2654\"/>\n",
       "</g>\n",
       "<!-- 22 -->\n",
       "<g id=\"node44\" class=\"node\"><title>22</title>\n",
       "<polygon fill=\"none\" stroke=\"black\" points=\"2822,-62 2610,-62 2610,-3.19744e-14 2822,-7.10543e-15 2822,-62\"/>\n",
       "<text text-anchor=\"middle\" x=\"2716\" y=\"-45.4\" font-family=\"Times Roman,serif\" font-size=\"14.00\">gini = 0.6447</text>\n",
       "<text text-anchor=\"middle\" x=\"2716\" y=\"-27.4\" font-family=\"Times Roman,serif\" font-size=\"14.00\">samples = 276</text>\n",
       "<text text-anchor=\"middle\" x=\"2716\" y=\"-9.4\" font-family=\"Times Roman,serif\" font-size=\"14.00\">value = [43, 146, 58, 22, 7]</text>\n",
       "</g>\n",
       "<!-- 21&#45;&gt;22 -->\n",
       "<g id=\"edge44\" class=\"edge\"><title>21&#45;&gt;22</title>\n",
       "<path fill=\"none\" stroke=\"black\" d=\"M2721.62,-97.8527C2720.91,-89.421 2720.16,-80.5165 2719.45,-72.0522\"/>\n",
       "<polygon fill=\"black\" stroke=\"black\" points=\"2722.93,-71.6786 2718.61,-62.0072 2715.96,-72.2654 2722.93,-71.6786\"/>\n",
       "</g>\n",
       "<!-- 23 -->\n",
       "<g id=\"node46\" class=\"node\"><title>23</title>\n",
       "<polygon fill=\"none\" stroke=\"black\" points=\"3006,-62 2840,-62 2840,-3.19744e-14 3006,-7.10543e-15 3006,-62\"/>\n",
       "<text text-anchor=\"middle\" x=\"2923\" y=\"-45.4\" font-family=\"Times Roman,serif\" font-size=\"14.00\">gini = 0.32</text>\n",
       "<text text-anchor=\"middle\" x=\"2923\" y=\"-27.4\" font-family=\"Times Roman,serif\" font-size=\"14.00\">samples = 5</text>\n",
       "<text text-anchor=\"middle\" x=\"2923\" y=\"-9.4\" font-family=\"Times Roman,serif\" font-size=\"14.00\">value = [0, 0, 0, 4, 1]</text>\n",
       "</g>\n",
       "<!-- 21&#45;&gt;23 -->\n",
       "<g id=\"edge46\" class=\"edge\"><title>21&#45;&gt;23</title>\n",
       "<path fill=\"none\" stroke=\"black\" d=\"M2799.29,-97.8527C2818.15,-87.6605 2838.29,-76.7776 2856.72,-66.8162\"/>\n",
       "<polygon fill=\"black\" stroke=\"black\" points=\"2858.49,-69.8406 2865.62,-62.0072 2855.16,-63.6823 2858.49,-69.8406\"/>\n",
       "</g>\n",
       "<!-- 25 -->\n",
       "<g id=\"node50\" class=\"node\"><title>25</title>\n",
       "<polygon fill=\"none\" stroke=\"black\" points=\"3420,-178 3146,-178 3146,-98 3420,-98 3420,-178\"/>\n",
       "<text text-anchor=\"middle\" x=\"3283\" y=\"-161.4\" font-family=\"Times Roman,serif\" font-size=\"14.00\">and &lt;= 0.2584</text>\n",
       "<text text-anchor=\"middle\" x=\"3283\" y=\"-143.4\" font-family=\"Times Roman,serif\" font-size=\"14.00\">gini = 0.694</text>\n",
       "<text text-anchor=\"middle\" x=\"3283\" y=\"-125.4\" font-family=\"Times Roman,serif\" font-size=\"14.00\">samples = 3899</text>\n",
       "<text text-anchor=\"middle\" x=\"3283\" y=\"-107.4\" font-family=\"Times Roman,serif\" font-size=\"14.00\">value = [170, 564, 1760, 1034, 371]</text>\n",
       "</g>\n",
       "<!-- 24&#45;&gt;25 -->\n",
       "<g id=\"edge50\" class=\"edge\"><title>24&#45;&gt;25</title>\n",
       "<path fill=\"none\" stroke=\"black\" d=\"M3283,-213.754C3283,-205.567 3283,-196.856 3283,-188.368\"/>\n",
       "<polygon fill=\"black\" stroke=\"black\" points=\"3286.5,-188.174 3283,-178.174 3279.5,-188.175 3286.5,-188.174\"/>\n",
       "</g>\n",
       "<!-- 28 -->\n",
       "<g id=\"node56\" class=\"node\"><title>28</title>\n",
       "<polygon fill=\"none\" stroke=\"black\" points=\"3748,-178 3564,-178 3564,-98 3748,-98 3748,-178\"/>\n",
       "<text text-anchor=\"middle\" x=\"3656\" y=\"-161.4\" font-family=\"Times Roman,serif\" font-size=\"14.00\">that &lt;= 0.1252</text>\n",
       "<text text-anchor=\"middle\" x=\"3656\" y=\"-143.4\" font-family=\"Times Roman,serif\" font-size=\"14.00\">gini = 0.6164</text>\n",
       "<text text-anchor=\"middle\" x=\"3656\" y=\"-125.4\" font-family=\"Times Roman,serif\" font-size=\"14.00\">samples = 108</text>\n",
       "<text text-anchor=\"middle\" x=\"3656\" y=\"-107.4\" font-family=\"Times Roman,serif\" font-size=\"14.00\">value = [2, 6, 7, 52, 41]</text>\n",
       "</g>\n",
       "<!-- 24&#45;&gt;28 -->\n",
       "<g id=\"edge56\" class=\"edge\"><title>24&#45;&gt;28</title>\n",
       "<path fill=\"none\" stroke=\"black\" d=\"M3411.63,-213.998C3458.14,-199.533 3509.98,-183.41 3553.91,-169.75\"/>\n",
       "<polygon fill=\"black\" stroke=\"black\" points=\"3555.22,-173.006 3563.73,-166.694 3553.15,-166.322 3555.22,-173.006\"/>\n",
       "</g>\n",
       "<!-- 26 -->\n",
       "<g id=\"node52\" class=\"node\"><title>26</title>\n",
       "<polygon fill=\"none\" stroke=\"black\" points=\"3290,-62 3024,-62 3024,-3.19744e-14 3290,-7.10543e-15 3290,-62\"/>\n",
       "<text text-anchor=\"middle\" x=\"3157\" y=\"-45.4\" font-family=\"Times Roman,serif\" font-size=\"14.00\">gini = 0.719</text>\n",
       "<text text-anchor=\"middle\" x=\"3157\" y=\"-27.4\" font-family=\"Times Roman,serif\" font-size=\"14.00\">samples = 2979</text>\n",
       "<text text-anchor=\"middle\" x=\"3157\" y=\"-9.4\" font-family=\"Times Roman,serif\" font-size=\"14.00\">value = [156, 455, 1212, 828, 328]</text>\n",
       "</g>\n",
       "<!-- 25&#45;&gt;26 -->\n",
       "<g id=\"edge52\" class=\"edge\"><title>25&#45;&gt;26</title>\n",
       "<path fill=\"none\" stroke=\"black\" d=\"M3235.72,-97.8527C3224.49,-88.3091 3212.53,-78.1599 3201.43,-68.7287\"/>\n",
       "<polygon fill=\"black\" stroke=\"black\" points=\"3203.4,-65.8124 3193.51,-62.0072 3198.87,-71.148 3203.4,-65.8124\"/>\n",
       "</g>\n",
       "<!-- 27 -->\n",
       "<g id=\"node54\" class=\"node\"><title>27</title>\n",
       "<polygon fill=\"none\" stroke=\"black\" points=\"3546,-62 3308,-62 3308,-3.19744e-14 3546,-7.10543e-15 3546,-62\"/>\n",
       "<text text-anchor=\"middle\" x=\"3427\" y=\"-45.4\" font-family=\"Times Roman,serif\" font-size=\"14.00\">gini = 0.5786</text>\n",
       "<text text-anchor=\"middle\" x=\"3427\" y=\"-27.4\" font-family=\"Times Roman,serif\" font-size=\"14.00\">samples = 920</text>\n",
       "<text text-anchor=\"middle\" x=\"3427\" y=\"-9.4\" font-family=\"Times Roman,serif\" font-size=\"14.00\">value = [14, 109, 548, 206, 43]</text>\n",
       "</g>\n",
       "<!-- 25&#45;&gt;27 -->\n",
       "<g id=\"edge54\" class=\"edge\"><title>25&#45;&gt;27</title>\n",
       "<path fill=\"none\" stroke=\"black\" d=\"M3337.03,-97.8527C3350.12,-88.1238 3364.06,-77.7655 3376.96,-68.1802\"/>\n",
       "<polygon fill=\"black\" stroke=\"black\" points=\"3379.33,-70.7809 3385.27,-62.0072 3375.16,-65.1622 3379.33,-70.7809\"/>\n",
       "</g>\n",
       "<!-- 29 -->\n",
       "<g id=\"node58\" class=\"node\"><title>29</title>\n",
       "<polygon fill=\"none\" stroke=\"black\" points=\"3748,-62 3564,-62 3564,-3.19744e-14 3748,-7.10543e-15 3748,-62\"/>\n",
       "<text text-anchor=\"middle\" x=\"3656\" y=\"-45.4\" font-family=\"Times Roman,serif\" font-size=\"14.00\">gini = 0.5966</text>\n",
       "<text text-anchor=\"middle\" x=\"3656\" y=\"-27.4\" font-family=\"Times Roman,serif\" font-size=\"14.00\">samples = 105</text>\n",
       "<text text-anchor=\"middle\" x=\"3656\" y=\"-9.4\" font-family=\"Times Roman,serif\" font-size=\"14.00\">value = [2, 3, 7, 52, 41]</text>\n",
       "</g>\n",
       "<!-- 28&#45;&gt;29 -->\n",
       "<g id=\"edge58\" class=\"edge\"><title>28&#45;&gt;29</title>\n",
       "<path fill=\"none\" stroke=\"black\" d=\"M3656,-97.8527C3656,-89.421 3656,-80.5165 3656,-72.0522\"/>\n",
       "<polygon fill=\"black\" stroke=\"black\" points=\"3659.5,-72.0072 3656,-62.0072 3652.5,-72.0072 3659.5,-72.0072\"/>\n",
       "</g>\n",
       "<!-- 30 -->\n",
       "<g id=\"node60\" class=\"node\"><title>30</title>\n",
       "<polygon fill=\"none\" stroke=\"black\" points=\"3932,-62 3766,-62 3766,-3.19744e-14 3932,-7.10543e-15 3932,-62\"/>\n",
       "<text text-anchor=\"middle\" x=\"3849\" y=\"-45.4\" font-family=\"Times Roman,serif\" font-size=\"14.00\">gini = 0.0</text>\n",
       "<text text-anchor=\"middle\" x=\"3849\" y=\"-27.4\" font-family=\"Times Roman,serif\" font-size=\"14.00\">samples = 3</text>\n",
       "<text text-anchor=\"middle\" x=\"3849\" y=\"-9.4\" font-family=\"Times Roman,serif\" font-size=\"14.00\">value = [0, 3, 0, 0, 0]</text>\n",
       "</g>\n",
       "<!-- 28&#45;&gt;30 -->\n",
       "<g id=\"edge60\" class=\"edge\"><title>28&#45;&gt;30</title>\n",
       "<path fill=\"none\" stroke=\"black\" d=\"M3728.42,-97.8527C3746.63,-87.7532 3766.07,-76.9754 3783.91,-67.0881\"/>\n",
       "<polygon fill=\"black\" stroke=\"black\" points=\"3786.02,-69.917 3793.07,-62.0072 3782.63,-63.7949 3786.02,-69.917\"/>\n",
       "</g>\n",
       "</g>\n",
       "</svg>\n"
      ]
     },
     "metadata": {},
     "output_type": "display_data"
    }
   ],
   "source": [
    "f = open('tree.dot')\n",
    "tree_model_visualization = f.read()\n",
    "f.close()\n",
    "%dotstr tree_model_visualization"
   ]
  },
  {
   "cell_type": "code",
   "execution_count": 31,
   "metadata": {
    "collapsed": false
   },
   "outputs": [
    {
     "data": {
      "text/plain": [
       "0.51514801999231064"
      ]
     },
     "execution_count": 31,
     "metadata": {},
     "output_type": "execute_result"
    }
   ],
   "source": [
    "tree_model.score(X_test, y_test)"
   ]
  },
  {
   "cell_type": "markdown",
   "metadata": {},
   "source": [
    "If we look at the first node we are essentially using and as a proxy for a long phrase.  Long phrases are more likely to have polarized sentiment values.  Instead of making the algorithm do the work using TF-IDF, we can instead encode that feature directly."
   ]
  },
  {
   "cell_type": "code",
   "execution_count": 32,
   "metadata": {
    "collapsed": false
   },
   "outputs": [
    {
     "name": "stdout",
     "output_type": "stream",
     "text": [
      "(156060, 15241)\n"
     ]
    }
   ],
   "source": [
    "from scipy import sparse\n",
    "\n",
    "num_words_feature = np.asarray(map(lambda x: len(x.split()), tomatoes.Phrase))\n",
    "num_words_feature = num_words_feature[:, np.newaxis]\n",
    "X_with_num_words = sparse.hstack((X, num_words_feature))\n",
    "print X_with_num_words.shape"
   ]
  },
  {
   "cell_type": "code",
   "execution_count": 33,
   "metadata": {
    "collapsed": false
   },
   "outputs": [
    {
     "data": {
      "text/plain": [
       "DecisionTreeClassifier(class_weight=None, criterion='gini', max_depth=4,\n",
       "            max_features=None, max_leaf_nodes=None, min_samples_leaf=1,\n",
       "            min_samples_split=2, min_weight_fraction_leaf=0.0,\n",
       "            presort=False, random_state=None, splitter='best')"
      ]
     },
     "execution_count": 33,
     "metadata": {},
     "output_type": "execute_result"
    }
   ],
   "source": [
    "tree_model_with_num_words = DecisionTreeClassifier(max_depth=4)\n",
    "tree_model_with_num_words.fit(X_with_num_words, y)"
   ]
  },
  {
   "cell_type": "code",
   "execution_count": 34,
   "metadata": {
    "collapsed": false
   },
   "outputs": [
    {
     "data": {
      "image/svg+xml": [
       "<?xml version=\"1.0\" encoding=\"UTF-8\" standalone=\"no\"?>\n",
       "<!DOCTYPE svg PUBLIC \"-//W3C//DTD SVG 1.1//EN\"\n",
       " \"http://www.w3.org/Graphics/SVG/1.1/DTD/svg11.dtd\">\n",
       "<!-- Generated by graphviz version 2.26.3 (20100126.1600)\n",
       " -->\n",
       "<!-- Title: Tree Pages: 1 -->\n",
       "<svg width=\"4118pt\" height=\"534pt\"\n",
       " viewBox=\"0.00 0.00 4118.00 534.00\" xmlns=\"http://www.w3.org/2000/svg\" xmlns:xlink=\"http://www.w3.org/1999/xlink\">\n",
       "<g id=\"graph1\" class=\"graph\" transform=\"scale(1 1) rotate(0) translate(4 530)\">\n",
       "<title>Tree</title>\n",
       "<polygon fill=\"white\" stroke=\"white\" points=\"-4,5 -4,-530 4115,-530 4115,5 -4,5\"/>\n",
       "<!-- 0 -->\n",
       "<g id=\"node1\" class=\"node\"><title>0</title>\n",
       "<polygon fill=\"none\" stroke=\"black\" points=\"2174,-526 1846,-526 1846,-446 2174,-446 2174,-526\"/>\n",
       "<text text-anchor=\"middle\" x=\"2010\" y=\"-509.4\" font-family=\"Times Roman,serif\" font-size=\"14.00\">num_words &lt;= 5.5</text>\n",
       "<text text-anchor=\"middle\" x=\"2010\" y=\"-491.4\" font-family=\"Times Roman,serif\" font-size=\"14.00\">gini = 0.6594</text>\n",
       "<text text-anchor=\"middle\" x=\"2010\" y=\"-473.4\" font-family=\"Times Roman,serif\" font-size=\"14.00\">samples = 156060</text>\n",
       "<text text-anchor=\"middle\" x=\"2010\" y=\"-455.4\" font-family=\"Times Roman,serif\" font-size=\"14.00\">value = [7072, 27273, 79582, 32927, 9206]</text>\n",
       "</g>\n",
       "<!-- 1 -->\n",
       "<g id=\"node2\" class=\"node\"><title>1</title>\n",
       "<polygon fill=\"none\" stroke=\"black\" points=\"1651,-410 1323,-410 1323,-330 1651,-330 1651,-410\"/>\n",
       "<text text-anchor=\"middle\" x=\"1487\" y=\"-393.4\" font-family=\"Times Roman,serif\" font-size=\"14.00\">num_words &lt;= 2.5</text>\n",
       "<text text-anchor=\"middle\" x=\"1487\" y=\"-375.4\" font-family=\"Times Roman,serif\" font-size=\"14.00\">gini = 0.5484</text>\n",
       "<text text-anchor=\"middle\" x=\"1487\" y=\"-357.4\" font-family=\"Times Roman,serif\" font-size=\"14.00\">samples = 88762</text>\n",
       "<text text-anchor=\"middle\" x=\"1487\" y=\"-339.4\" font-family=\"Times Roman,serif\" font-size=\"14.00\">value = [1986, 11465, 56224, 15843, 3244]</text>\n",
       "</g>\n",
       "<!-- 0&#45;&gt;1 -->\n",
       "<g id=\"edge2\" class=\"edge\"><title>0&#45;&gt;1</title>\n",
       "<path fill=\"none\" stroke=\"black\" d=\"M1845.95,-449.615C1787.21,-436.587 1720.82,-421.86 1661.25,-408.647\"/>\n",
       "<polygon fill=\"black\" stroke=\"black\" points=\"1661.88,-405.204 1651.36,-406.455 1660.37,-412.037 1661.88,-405.204\"/>\n",
       "<text text-anchor=\"middle\" x=\"1664.79\" y=\"-423.941\" font-family=\"Times Roman,serif\" font-size=\"14.00\">True</text>\n",
       "</g>\n",
       "<!-- 16 -->\n",
       "<g id=\"node32\" class=\"node\"><title>16</title>\n",
       "<polygon fill=\"none\" stroke=\"black\" points=\"2731,-410 2403,-410 2403,-330 2731,-330 2731,-410\"/>\n",
       "<text text-anchor=\"middle\" x=\"2567\" y=\"-393.4\" font-family=\"Times Roman,serif\" font-size=\"14.00\">num_words &lt;= 11.5</text>\n",
       "<text text-anchor=\"middle\" x=\"2567\" y=\"-375.4\" font-family=\"Times Roman,serif\" font-size=\"14.00\">gini = 0.7464</text>\n",
       "<text text-anchor=\"middle\" x=\"2567\" y=\"-357.4\" font-family=\"Times Roman,serif\" font-size=\"14.00\">samples = 67298</text>\n",
       "<text text-anchor=\"middle\" x=\"2567\" y=\"-339.4\" font-family=\"Times Roman,serif\" font-size=\"14.00\">value = [5086, 15808, 23358, 17084, 5962]</text>\n",
       "</g>\n",
       "<!-- 0&#45;&gt;16 -->\n",
       "<g id=\"edge32\" class=\"edge\"><title>0&#45;&gt;16</title>\n",
       "<path fill=\"none\" stroke=\"black\" d=\"M2174.11,-451.824C2242.77,-437.523 2322.67,-420.885 2392.41,-406.36\"/>\n",
       "<polygon fill=\"black\" stroke=\"black\" points=\"2393.55,-409.698 2402.62,-404.233 2392.12,-402.845 2393.55,-409.698\"/>\n",
       "<text text-anchor=\"middle\" x=\"2388.92\" y=\"-421.543\" font-family=\"Times Roman,serif\" font-size=\"14.00\">False</text>\n",
       "</g>\n",
       "<!-- 2 -->\n",
       "<g id=\"node4\" class=\"node\"><title>2</title>\n",
       "<polygon fill=\"none\" stroke=\"black\" points=\"895,-294 603,-294 603,-214 895,-214 895,-294\"/>\n",
       "<text text-anchor=\"middle\" x=\"749\" y=\"-277.4\" font-family=\"Times Roman,serif\" font-size=\"14.00\">good &lt;= 0.1804</text>\n",
       "<text text-anchor=\"middle\" x=\"749\" y=\"-259.4\" font-family=\"Times Roman,serif\" font-size=\"14.00\">gini = 0.4693</text>\n",
       "<text text-anchor=\"middle\" x=\"749\" y=\"-241.4\" font-family=\"Times Roman,serif\" font-size=\"14.00\">samples = 42491</text>\n",
       "<text text-anchor=\"middle\" x=\"749\" y=\"-223.4\" font-family=\"Times Roman,serif\" font-size=\"14.00\">value = [603, 4829, 29929, 6147, 983]</text>\n",
       "</g>\n",
       "<!-- 1&#45;&gt;2 -->\n",
       "<g id=\"edge4\" class=\"edge\"><title>1&#45;&gt;2</title>\n",
       "<path fill=\"none\" stroke=\"black\" d=\"M1322.76,-344.184C1198.2,-324.606 1028.1,-297.869 905.49,-278.597\"/>\n",
       "<polygon fill=\"black\" stroke=\"black\" points=\"905.687,-275.085 895.265,-276.99 904.6,-282 905.687,-275.085\"/>\n",
       "</g>\n",
       "<!-- 9 -->\n",
       "<g id=\"node18\" class=\"node\"><title>9</title>\n",
       "<polygon fill=\"none\" stroke=\"black\" points=\"1642,-294 1332,-294 1332,-214 1642,-214 1642,-294\"/>\n",
       "<text text-anchor=\"middle\" x=\"1487\" y=\"-277.4\" font-family=\"Times Roman,serif\" font-size=\"14.00\">the &lt;= 0.1673</text>\n",
       "<text text-anchor=\"middle\" x=\"1487\" y=\"-259.4\" font-family=\"Times Roman,serif\" font-size=\"14.00\">gini = 0.6093</text>\n",
       "<text text-anchor=\"middle\" x=\"1487\" y=\"-241.4\" font-family=\"Times Roman,serif\" font-size=\"14.00\">samples = 46271</text>\n",
       "<text text-anchor=\"middle\" x=\"1487\" y=\"-223.4\" font-family=\"Times Roman,serif\" font-size=\"14.00\">value = [1383, 6636, 26295, 9696, 2261]</text>\n",
       "</g>\n",
       "<!-- 1&#45;&gt;9 -->\n",
       "<g id=\"edge18\" class=\"edge\"><title>1&#45;&gt;9</title>\n",
       "<path fill=\"none\" stroke=\"black\" d=\"M1487,-329.754C1487,-321.567 1487,-312.856 1487,-304.368\"/>\n",
       "<polygon fill=\"black\" stroke=\"black\" points=\"1490.5,-304.174 1487,-294.174 1483.5,-304.175 1490.5,-304.174\"/>\n",
       "</g>\n",
       "<!-- 3 -->\n",
       "<g id=\"node6\" class=\"node\"><title>3</title>\n",
       "<polygon fill=\"none\" stroke=\"black\" points=\"553,-178 261,-178 261,-98 553,-98 553,-178\"/>\n",
       "<text text-anchor=\"middle\" x=\"407\" y=\"-161.4\" font-family=\"Times Roman,serif\" font-size=\"14.00\">well &lt;= 0.3827</text>\n",
       "<text text-anchor=\"middle\" x=\"407\" y=\"-143.4\" font-family=\"Times Roman,serif\" font-size=\"14.00\">gini = 0.4669</text>\n",
       "<text text-anchor=\"middle\" x=\"407\" y=\"-125.4\" font-family=\"Times Roman,serif\" font-size=\"14.00\">samples = 42344</text>\n",
       "<text text-anchor=\"middle\" x=\"407\" y=\"-107.4\" font-family=\"Times Roman,serif\" font-size=\"14.00\">value = [601, 4826, 29911, 6047, 959]</text>\n",
       "</g>\n",
       "<!-- 2&#45;&gt;3 -->\n",
       "<g id=\"edge6\" class=\"edge\"><title>2&#45;&gt;3</title>\n",
       "<path fill=\"none\" stroke=\"black\" d=\"M630.824,-213.917C599.854,-203.412 566.32,-192.038 534.869,-181.371\"/>\n",
       "<polygon fill=\"black\" stroke=\"black\" points=\"535.775,-177.982 525.181,-178.085 533.526,-184.611 535.775,-177.982\"/>\n",
       "</g>\n",
       "<!-- 6 -->\n",
       "<g id=\"node12\" class=\"node\"><title>6</title>\n",
       "<polygon fill=\"none\" stroke=\"black\" points=\"850,-178 648,-178 648,-98 850,-98 850,-178\"/>\n",
       "<text text-anchor=\"middle\" x=\"749\" y=\"-161.4\" font-family=\"Times Roman,serif\" font-size=\"14.00\">not &lt;= 0.2155</text>\n",
       "<text text-anchor=\"middle\" x=\"749\" y=\"-143.4\" font-family=\"Times Roman,serif\" font-size=\"14.00\">gini = 0.495</text>\n",
       "<text text-anchor=\"middle\" x=\"749\" y=\"-125.4\" font-family=\"Times Roman,serif\" font-size=\"14.00\">samples = 147</text>\n",
       "<text text-anchor=\"middle\" x=\"749\" y=\"-107.4\" font-family=\"Times Roman,serif\" font-size=\"14.00\">value = [2, 3, 18, 100, 24]</text>\n",
       "</g>\n",
       "<!-- 2&#45;&gt;6 -->\n",
       "<g id=\"edge12\" class=\"edge\"><title>2&#45;&gt;6</title>\n",
       "<path fill=\"none\" stroke=\"black\" d=\"M749,-213.754C749,-205.567 749,-196.856 749,-188.368\"/>\n",
       "<polygon fill=\"black\" stroke=\"black\" points=\"752.5,-188.174 749,-178.174 745.5,-188.175 752.5,-188.174\"/>\n",
       "</g>\n",
       "<!-- 4 -->\n",
       "<g id=\"node8\" class=\"node\"><title>4</title>\n",
       "<polygon fill=\"none\" stroke=\"black\" points=\"292,-62 1.42109e-13,-62 0,-3.19744e-14 292,-7.10543e-15 292,-62\"/>\n",
       "<text text-anchor=\"middle\" x=\"146\" y=\"-45.4\" font-family=\"Times Roman,serif\" font-size=\"14.00\">gini = 0.4649</text>\n",
       "<text text-anchor=\"middle\" x=\"146\" y=\"-27.4\" font-family=\"Times Roman,serif\" font-size=\"14.00\">samples = 42208</text>\n",
       "<text text-anchor=\"middle\" x=\"146\" y=\"-9.4\" font-family=\"Times Roman,serif\" font-size=\"14.00\">value = [601, 4822, 29887, 5968, 930]</text>\n",
       "</g>\n",
       "<!-- 3&#45;&gt;4 -->\n",
       "<g id=\"edge8\" class=\"edge\"><title>3&#45;&gt;4</title>\n",
       "<path fill=\"none\" stroke=\"black\" d=\"M309.071,-97.8527C283.418,-87.3362 255.972,-76.0843 231.052,-65.8682\"/>\n",
       "<polygon fill=\"black\" stroke=\"black\" points=\"232.215,-62.5621 221.634,-62.0072 229.559,-69.0389 232.215,-62.5621\"/>\n",
       "</g>\n",
       "<!-- 5 -->\n",
       "<g id=\"node10\" class=\"node\"><title>5</title>\n",
       "<polygon fill=\"none\" stroke=\"black\" points=\"504,-62 310,-62 310,-3.19744e-14 504,-7.10543e-15 504,-62\"/>\n",
       "<text text-anchor=\"middle\" x=\"407\" y=\"-45.4\" font-family=\"Times Roman,serif\" font-size=\"14.00\">gini = 0.5851</text>\n",
       "<text text-anchor=\"middle\" x=\"407\" y=\"-27.4\" font-family=\"Times Roman,serif\" font-size=\"14.00\">samples = 136</text>\n",
       "<text text-anchor=\"middle\" x=\"407\" y=\"-9.4\" font-family=\"Times Roman,serif\" font-size=\"14.00\">value = [0, 4, 24, 79, 29]</text>\n",
       "</g>\n",
       "<!-- 3&#45;&gt;5 -->\n",
       "<g id=\"edge10\" class=\"edge\"><title>3&#45;&gt;5</title>\n",
       "<path fill=\"none\" stroke=\"black\" d=\"M407,-97.8527C407,-89.421 407,-80.5165 407,-72.0522\"/>\n",
       "<polygon fill=\"black\" stroke=\"black\" points=\"410.5,-72.0072 407,-62.0072 403.5,-72.0072 410.5,-72.0072\"/>\n",
       "</g>\n",
       "<!-- 7 -->\n",
       "<g id=\"node14\" class=\"node\"><title>7</title>\n",
       "<polygon fill=\"none\" stroke=\"black\" points=\"724,-62 522,-62 522,-3.19744e-14 724,-7.10543e-15 724,-62\"/>\n",
       "<text text-anchor=\"middle\" x=\"623\" y=\"-45.4\" font-family=\"Times Roman,serif\" font-size=\"14.00\">gini = 0.4742</text>\n",
       "<text text-anchor=\"middle\" x=\"623\" y=\"-27.4\" font-family=\"Times Roman,serif\" font-size=\"14.00\">samples = 144</text>\n",
       "<text text-anchor=\"middle\" x=\"623\" y=\"-9.4\" font-family=\"Times Roman,serif\" font-size=\"14.00\">value = [0, 2, 18, 100, 24]</text>\n",
       "</g>\n",
       "<!-- 6&#45;&gt;7 -->\n",
       "<g id=\"edge14\" class=\"edge\"><title>6&#45;&gt;7</title>\n",
       "<path fill=\"none\" stroke=\"black\" d=\"M701.724,-97.8527C690.485,-88.3091 678.534,-78.1599 667.428,-68.7287\"/>\n",
       "<polygon fill=\"black\" stroke=\"black\" points=\"669.401,-65.8124 659.513,-62.0072 664.87,-71.148 669.401,-65.8124\"/>\n",
       "</g>\n",
       "<!-- 8 -->\n",
       "<g id=\"node16\" class=\"node\"><title>8</title>\n",
       "<polygon fill=\"none\" stroke=\"black\" points=\"908,-62 742,-62 742,-3.19744e-14 908,-7.10543e-15 908,-62\"/>\n",
       "<text text-anchor=\"middle\" x=\"825\" y=\"-45.4\" font-family=\"Times Roman,serif\" font-size=\"14.00\">gini = 0.4444</text>\n",
       "<text text-anchor=\"middle\" x=\"825\" y=\"-27.4\" font-family=\"Times Roman,serif\" font-size=\"14.00\">samples = 3</text>\n",
       "<text text-anchor=\"middle\" x=\"825\" y=\"-9.4\" font-family=\"Times Roman,serif\" font-size=\"14.00\">value = [2, 1, 0, 0, 0]</text>\n",
       "</g>\n",
       "<!-- 6&#45;&gt;8 -->\n",
       "<g id=\"edge16\" class=\"edge\"><title>6&#45;&gt;8</title>\n",
       "<path fill=\"none\" stroke=\"black\" d=\"M777.516,-97.8527C783.9,-88.865 790.665,-79.3403 797.026,-70.3839\"/>\n",
       "<polygon fill=\"black\" stroke=\"black\" points=\"800.039,-72.1867 802.976,-62.0072 794.332,-68.1332 800.039,-72.1867\"/>\n",
       "</g>\n",
       "<!-- 10 -->\n",
       "<g id=\"node20\" class=\"node\"><title>10</title>\n",
       "<polygon fill=\"none\" stroke=\"black\" points=\"1491,-178 1181,-178 1181,-98 1491,-98 1491,-178\"/>\n",
       "<text text-anchor=\"middle\" x=\"1336\" y=\"-161.4\" font-family=\"Times Roman,serif\" font-size=\"14.00\">good &lt;= 0.2881</text>\n",
       "<text text-anchor=\"middle\" x=\"1336\" y=\"-143.4\" font-family=\"Times Roman,serif\" font-size=\"14.00\">gini = 0.6264</text>\n",
       "<text text-anchor=\"middle\" x=\"1336\" y=\"-125.4\" font-family=\"Times Roman,serif\" font-size=\"14.00\">samples = 40547</text>\n",
       "<text text-anchor=\"middle\" x=\"1336\" y=\"-107.4\" font-family=\"Times Roman,serif\" font-size=\"14.00\">value = [1317, 6130, 22209, 8787, 2104]</text>\n",
       "</g>\n",
       "<!-- 9&#45;&gt;10 -->\n",
       "<g id=\"edge20\" class=\"edge\"><title>9&#45;&gt;10</title>\n",
       "<path fill=\"none\" stroke=\"black\" d=\"M1434.61,-213.754C1422.31,-204.307 1409.11,-194.164 1396.49,-184.469\"/>\n",
       "<polygon fill=\"black\" stroke=\"black\" points=\"1398.36,-181.491 1388.3,-178.174 1394.09,-187.042 1398.36,-181.491\"/>\n",
       "</g>\n",
       "<!-- 13 -->\n",
       "<g id=\"node26\" class=\"node\"><title>13</title>\n",
       "<polygon fill=\"none\" stroke=\"black\" points=\"1765,-178 1509,-178 1509,-98 1765,-98 1765,-178\"/>\n",
       "<text text-anchor=\"middle\" x=\"1637\" y=\"-161.4\" font-family=\"Times Roman,serif\" font-size=\"14.00\">best &lt;= 0.1907</text>\n",
       "<text text-anchor=\"middle\" x=\"1637\" y=\"-143.4\" font-family=\"Times Roman,serif\" font-size=\"14.00\">gini = 0.4565</text>\n",
       "<text text-anchor=\"middle\" x=\"1637\" y=\"-125.4\" font-family=\"Times Roman,serif\" font-size=\"14.00\">samples = 5724</text>\n",
       "<text text-anchor=\"middle\" x=\"1637\" y=\"-107.4\" font-family=\"Times Roman,serif\" font-size=\"14.00\">value = [66, 506, 4086, 909, 157]</text>\n",
       "</g>\n",
       "<!-- 9&#45;&gt;13 -->\n",
       "<g id=\"edge26\" class=\"edge\"><title>9&#45;&gt;13</title>\n",
       "<path fill=\"none\" stroke=\"black\" d=\"M1539.04,-213.754C1551.26,-204.307 1564.37,-194.164 1576.91,-184.469\"/>\n",
       "<polygon fill=\"black\" stroke=\"black\" points=\"1579.28,-187.061 1585.05,-178.174 1575,-181.523 1579.28,-187.061\"/>\n",
       "</g>\n",
       "<!-- 11 -->\n",
       "<g id=\"node22\" class=\"node\"><title>11</title>\n",
       "<polygon fill=\"none\" stroke=\"black\" points=\"1236,-62 926,-62 926,-3.19744e-14 1236,-7.10543e-15 1236,-62\"/>\n",
       "<text text-anchor=\"middle\" x=\"1081\" y=\"-45.4\" font-family=\"Times Roman,serif\" font-size=\"14.00\">gini = 0.6237</text>\n",
       "<text text-anchor=\"middle\" x=\"1081\" y=\"-27.4\" font-family=\"Times Roman,serif\" font-size=\"14.00\">samples = 40102</text>\n",
       "<text text-anchor=\"middle\" x=\"1081\" y=\"-9.4\" font-family=\"Times Roman,serif\" font-size=\"14.00\">value = [1310, 6111, 22117, 8527, 2037]</text>\n",
       "</g>\n",
       "<!-- 10&#45;&gt;11 -->\n",
       "<g id=\"edge22\" class=\"edge\"><title>10&#45;&gt;11</title>\n",
       "<path fill=\"none\" stroke=\"black\" d=\"M1240.32,-97.8527C1215.37,-87.3825 1188.68,-76.1834 1164.42,-66.0033\"/>\n",
       "<polygon fill=\"black\" stroke=\"black\" points=\"1165.47,-62.6491 1154.9,-62.0072 1162.76,-69.1039 1165.47,-62.6491\"/>\n",
       "</g>\n",
       "<!-- 12 -->\n",
       "<g id=\"node24\" class=\"node\"><title>12</title>\n",
       "<polygon fill=\"none\" stroke=\"black\" points=\"1466,-62 1254,-62 1254,-3.19744e-14 1466,-7.10543e-15 1466,-62\"/>\n",
       "<text text-anchor=\"middle\" x=\"1360\" y=\"-45.4\" font-family=\"Times Roman,serif\" font-size=\"14.00\">gini = 0.5911</text>\n",
       "<text text-anchor=\"middle\" x=\"1360\" y=\"-27.4\" font-family=\"Times Roman,serif\" font-size=\"14.00\">samples = 445</text>\n",
       "<text text-anchor=\"middle\" x=\"1360\" y=\"-9.4\" font-family=\"Times Roman,serif\" font-size=\"14.00\">value = [7, 19, 92, 260, 67]</text>\n",
       "</g>\n",
       "<!-- 10&#45;&gt;12 -->\n",
       "<g id=\"edge24\" class=\"edge\"><title>10&#45;&gt;12</title>\n",
       "<path fill=\"none\" stroke=\"black\" d=\"M1345,-97.8527C1346.92,-89.3283 1348.94,-80.3208 1350.85,-71.7733\"/>\n",
       "<polygon fill=\"black\" stroke=\"black\" points=\"1354.27,-72.5308 1353.05,-62.0072 1347.44,-70.9987 1354.27,-72.5308\"/>\n",
       "</g>\n",
       "<!-- 14 -->\n",
       "<g id=\"node28\" class=\"node\"><title>14</title>\n",
       "<polygon fill=\"none\" stroke=\"black\" points=\"1740,-62 1484,-62 1484,-3.19744e-14 1740,-7.10543e-15 1740,-62\"/>\n",
       "<text text-anchor=\"middle\" x=\"1612\" y=\"-45.4\" font-family=\"Times Roman,serif\" font-size=\"14.00\">gini = 0.4437</text>\n",
       "<text text-anchor=\"middle\" x=\"1612\" y=\"-27.4\" font-family=\"Times Roman,serif\" font-size=\"14.00\">samples = 5631</text>\n",
       "<text text-anchor=\"middle\" x=\"1612\" y=\"-9.4\" font-family=\"Times Roman,serif\" font-size=\"14.00\">value = [66, 505, 4076, 867, 117]</text>\n",
       "</g>\n",
       "<!-- 13&#45;&gt;14 -->\n",
       "<g id=\"edge28\" class=\"edge\"><title>13&#45;&gt;14</title>\n",
       "<path fill=\"none\" stroke=\"black\" d=\"M1627.62,-97.8527C1625.63,-89.3283 1623.52,-80.3208 1621.53,-71.7733\"/>\n",
       "<polygon fill=\"black\" stroke=\"black\" points=\"1624.93,-70.9486 1619.24,-62.0072 1618.11,-72.5413 1624.93,-70.9486\"/>\n",
       "</g>\n",
       "<!-- 15 -->\n",
       "<g id=\"node30\" class=\"node\"><title>15</title>\n",
       "<polygon fill=\"none\" stroke=\"black\" points=\"1952,-62 1758,-62 1758,-3.19744e-14 1952,-7.10543e-15 1952,-62\"/>\n",
       "<text text-anchor=\"middle\" x=\"1855\" y=\"-45.4\" font-family=\"Times Roman,serif\" font-size=\"14.00\">gini = 0.5994</text>\n",
       "<text text-anchor=\"middle\" x=\"1855\" y=\"-27.4\" font-family=\"Times Roman,serif\" font-size=\"14.00\">samples = 93</text>\n",
       "<text text-anchor=\"middle\" x=\"1855\" y=\"-9.4\" font-family=\"Times Roman,serif\" font-size=\"14.00\">value = [0, 1, 10, 42, 40]</text>\n",
       "</g>\n",
       "<!-- 13&#45;&gt;15 -->\n",
       "<g id=\"edge30\" class=\"edge\"><title>13&#45;&gt;15</title>\n",
       "<path fill=\"none\" stroke=\"black\" d=\"M1718.8,-97.8527C1739.75,-87.5679 1762.14,-76.5796 1782.58,-66.5448\"/>\n",
       "<polygon fill=\"black\" stroke=\"black\" points=\"1784.39,-69.5553 1791.83,-62.0072 1781.31,-63.2714 1784.39,-69.5553\"/>\n",
       "</g>\n",
       "<!-- 17 -->\n",
       "<g id=\"node34\" class=\"node\"><title>17</title>\n",
       "<polygon fill=\"none\" stroke=\"black\" points=\"2722,-294 2412,-294 2412,-214 2722,-214 2722,-294\"/>\n",
       "<text text-anchor=\"middle\" x=\"2567\" y=\"-277.4\" font-family=\"Times Roman,serif\" font-size=\"14.00\">too &lt;= 0.187</text>\n",
       "<text text-anchor=\"middle\" x=\"2567\" y=\"-259.4\" font-family=\"Times Roman,serif\" font-size=\"14.00\">gini = 0.7149</text>\n",
       "<text text-anchor=\"middle\" x=\"2567\" y=\"-241.4\" font-family=\"Times Roman,serif\" font-size=\"14.00\">samples = 36338</text>\n",
       "<text text-anchor=\"middle\" x=\"2567\" y=\"-223.4\" font-family=\"Times Roman,serif\" font-size=\"14.00\">value = [1982, 7819, 15012, 8891, 2634]</text>\n",
       "</g>\n",
       "<!-- 16&#45;&gt;17 -->\n",
       "<g id=\"edge34\" class=\"edge\"><title>16&#45;&gt;17</title>\n",
       "<path fill=\"none\" stroke=\"black\" d=\"M2567,-329.754C2567,-321.567 2567,-312.856 2567,-304.368\"/>\n",
       "<polygon fill=\"black\" stroke=\"black\" points=\"2570.5,-304.174 2567,-294.174 2563.5,-304.175 2570.5,-304.174\"/>\n",
       "</g>\n",
       "<!-- 24 -->\n",
       "<g id=\"node48\" class=\"node\"><title>24</title>\n",
       "<polygon fill=\"none\" stroke=\"black\" points=\"3433,-294 3131,-294 3131,-214 3433,-214 3433,-294\"/>\n",
       "<text text-anchor=\"middle\" x=\"3282\" y=\"-277.4\" font-family=\"Times Roman,serif\" font-size=\"14.00\">and &lt;= 0.0553</text>\n",
       "<text text-anchor=\"middle\" x=\"3282\" y=\"-259.4\" font-family=\"Times Roman,serif\" font-size=\"14.00\">gini = 0.7691</text>\n",
       "<text text-anchor=\"middle\" x=\"3282\" y=\"-241.4\" font-family=\"Times Roman,serif\" font-size=\"14.00\">samples = 30960</text>\n",
       "<text text-anchor=\"middle\" x=\"3282\" y=\"-223.4\" font-family=\"Times Roman,serif\" font-size=\"14.00\">value = [3104, 7989, 8346, 8193, 3328]</text>\n",
       "</g>\n",
       "<!-- 16&#45;&gt;24 -->\n",
       "<g id=\"edge48\" class=\"edge\"><title>16&#45;&gt;24</title>\n",
       "<path fill=\"none\" stroke=\"black\" d=\"M2731.04,-343.387C2848.01,-324.409 3004.54,-299.014 3120.86,-280.143\"/>\n",
       "<polygon fill=\"black\" stroke=\"black\" points=\"3121.62,-283.566 3130.93,-278.51 3120.5,-276.656 3121.62,-283.566\"/>\n",
       "</g>\n",
       "<!-- 18 -->\n",
       "<g id=\"node36\" class=\"node\"><title>18</title>\n",
       "<polygon fill=\"none\" stroke=\"black\" points=\"2581,-178 2271,-178 2271,-98 2581,-98 2581,-178\"/>\n",
       "<text text-anchor=\"middle\" x=\"2426\" y=\"-161.4\" font-family=\"Times Roman,serif\" font-size=\"14.00\">and &lt;= 0.1292</text>\n",
       "<text text-anchor=\"middle\" x=\"2426\" y=\"-143.4\" font-family=\"Times Roman,serif\" font-size=\"14.00\">gini = 0.7138</text>\n",
       "<text text-anchor=\"middle\" x=\"2426\" y=\"-125.4\" font-family=\"Times Roman,serif\" font-size=\"14.00\">samples = 35743</text>\n",
       "<text text-anchor=\"middle\" x=\"2426\" y=\"-107.4\" font-family=\"Times Roman,serif\" font-size=\"14.00\">value = [1924, 7492, 14860, 8836, 2631]</text>\n",
       "</g>\n",
       "<!-- 17&#45;&gt;18 -->\n",
       "<g id=\"edge36\" class=\"edge\"><title>17&#45;&gt;18</title>\n",
       "<path fill=\"none\" stroke=\"black\" d=\"M2518.08,-213.754C2506.71,-204.397 2494.5,-194.357 2482.82,-184.746\"/>\n",
       "<polygon fill=\"black\" stroke=\"black\" points=\"2484.78,-181.825 2474.83,-178.174 2480.33,-187.231 2484.78,-181.825\"/>\n",
       "</g>\n",
       "<!-- 21 -->\n",
       "<g id=\"node42\" class=\"node\"><title>21</title>\n",
       "<polygon fill=\"none\" stroke=\"black\" points=\"2819,-178 2599,-178 2599,-98 2819,-98 2819,-178\"/>\n",
       "<text text-anchor=\"middle\" x=\"2709\" y=\"-161.4\" font-family=\"Times Roman,serif\" font-size=\"14.00\">ll &lt;= 0.1849</text>\n",
       "<text text-anchor=\"middle\" x=\"2709\" y=\"-143.4\" font-family=\"Times Roman,serif\" font-size=\"14.00\">gini = 0.6146</text>\n",
       "<text text-anchor=\"middle\" x=\"2709\" y=\"-125.4\" font-family=\"Times Roman,serif\" font-size=\"14.00\">samples = 595</text>\n",
       "<text text-anchor=\"middle\" x=\"2709\" y=\"-107.4\" font-family=\"Times Roman,serif\" font-size=\"14.00\">value = [58, 327, 152, 55, 3]</text>\n",
       "</g>\n",
       "<!-- 17&#45;&gt;21 -->\n",
       "<g id=\"edge42\" class=\"edge\"><title>17&#45;&gt;21</title>\n",
       "<path fill=\"none\" stroke=\"black\" d=\"M2616.27,-213.754C2627.72,-204.397 2640.01,-194.357 2651.78,-184.746\"/>\n",
       "<polygon fill=\"black\" stroke=\"black\" points=\"2654.29,-187.212 2659.82,-178.174 2649.86,-181.79 2654.29,-187.212\"/>\n",
       "</g>\n",
       "<!-- 19 -->\n",
       "<g id=\"node38\" class=\"node\"><title>19</title>\n",
       "<polygon fill=\"none\" stroke=\"black\" points=\"2280,-62 1970,-62 1970,-3.19744e-14 2280,-7.10543e-15 2280,-62\"/>\n",
       "<text text-anchor=\"middle\" x=\"2125\" y=\"-45.4\" font-family=\"Times Roman,serif\" font-size=\"14.00\">gini = 0.7055</text>\n",
       "<text text-anchor=\"middle\" x=\"2125\" y=\"-27.4\" font-family=\"Times Roman,serif\" font-size=\"14.00\">samples = 30062</text>\n",
       "<text text-anchor=\"middle\" x=\"2125\" y=\"-9.4\" font-family=\"Times Roman,serif\" font-size=\"14.00\">value = [1579, 6617, 12880, 7101, 1885]</text>\n",
       "</g>\n",
       "<!-- 18&#45;&gt;19 -->\n",
       "<g id=\"edge38\" class=\"edge\"><title>18&#45;&gt;19</title>\n",
       "<path fill=\"none\" stroke=\"black\" d=\"M2313.06,-97.8527C2283.09,-87.1972 2250.99,-75.7868 2221.95,-65.4637\"/>\n",
       "<polygon fill=\"black\" stroke=\"black\" points=\"2222.82,-62.0589 2212.23,-62.0072 2220.48,-68.6546 2222.82,-62.0589\"/>\n",
       "</g>\n",
       "<!-- 20 -->\n",
       "<g id=\"node40\" class=\"node\"><title>20</title>\n",
       "<polygon fill=\"none\" stroke=\"black\" points=\"2572,-62 2298,-62 2298,-3.19744e-14 2572,-7.10543e-15 2572,-62\"/>\n",
       "<text text-anchor=\"middle\" x=\"2435\" y=\"-45.4\" font-family=\"Times Roman,serif\" font-size=\"14.00\">gini = 0.7406</text>\n",
       "<text text-anchor=\"middle\" x=\"2435\" y=\"-27.4\" font-family=\"Times Roman,serif\" font-size=\"14.00\">samples = 5681</text>\n",
       "<text text-anchor=\"middle\" x=\"2435\" y=\"-9.4\" font-family=\"Times Roman,serif\" font-size=\"14.00\">value = [345, 875, 1980, 1735, 746]</text>\n",
       "</g>\n",
       "<!-- 18&#45;&gt;20 -->\n",
       "<g id=\"edge40\" class=\"edge\"><title>18&#45;&gt;20</title>\n",
       "<path fill=\"none\" stroke=\"black\" d=\"M2429.38,-97.8527C2430.09,-89.421 2430.84,-80.5165 2431.55,-72.0522\"/>\n",
       "<polygon fill=\"black\" stroke=\"black\" points=\"2435.04,-72.2654 2432.39,-62.0072 2428.07,-71.6786 2435.04,-72.2654\"/>\n",
       "</g>\n",
       "<!-- 22 -->\n",
       "<g id=\"node44\" class=\"node\"><title>22</title>\n",
       "<polygon fill=\"none\" stroke=\"black\" points=\"2810,-62 2590,-62 2590,-3.19744e-14 2810,-7.10543e-15 2810,-62\"/>\n",
       "<text text-anchor=\"middle\" x=\"2700\" y=\"-45.4\" font-family=\"Times Roman,serif\" font-size=\"14.00\">gini = 0.6046</text>\n",
       "<text text-anchor=\"middle\" x=\"2700\" y=\"-27.4\" font-family=\"Times Roman,serif\" font-size=\"14.00\">samples = 582</text>\n",
       "<text text-anchor=\"middle\" x=\"2700\" y=\"-9.4\" font-family=\"Times Roman,serif\" font-size=\"14.00\">value = [58, 327, 146, 48, 3]</text>\n",
       "</g>\n",
       "<!-- 21&#45;&gt;22 -->\n",
       "<g id=\"edge44\" class=\"edge\"><title>21&#45;&gt;22</title>\n",
       "<path fill=\"none\" stroke=\"black\" d=\"M2705.62,-97.8527C2704.91,-89.421 2704.16,-80.5165 2703.45,-72.0522\"/>\n",
       "<polygon fill=\"black\" stroke=\"black\" points=\"2706.93,-71.6786 2702.61,-62.0072 2699.96,-72.2654 2706.93,-71.6786\"/>\n",
       "</g>\n",
       "<!-- 23 -->\n",
       "<g id=\"node46\" class=\"node\"><title>23</title>\n",
       "<polygon fill=\"none\" stroke=\"black\" points=\"2994,-62 2828,-62 2828,-3.19744e-14 2994,-7.10543e-15 2994,-62\"/>\n",
       "<text text-anchor=\"middle\" x=\"2911\" y=\"-45.4\" font-family=\"Times Roman,serif\" font-size=\"14.00\">gini = 0.497</text>\n",
       "<text text-anchor=\"middle\" x=\"2911\" y=\"-27.4\" font-family=\"Times Roman,serif\" font-size=\"14.00\">samples = 13</text>\n",
       "<text text-anchor=\"middle\" x=\"2911\" y=\"-9.4\" font-family=\"Times Roman,serif\" font-size=\"14.00\">value = [0, 0, 6, 7, 0]</text>\n",
       "</g>\n",
       "<!-- 21&#45;&gt;23 -->\n",
       "<g id=\"edge46\" class=\"edge\"><title>21&#45;&gt;23</title>\n",
       "<path fill=\"none\" stroke=\"black\" d=\"M2784.79,-97.8527C2804.03,-87.6605 2824.58,-76.7776 2843.38,-66.8162\"/>\n",
       "<polygon fill=\"black\" stroke=\"black\" points=\"2845.26,-69.781 2852.46,-62.0072 2841.99,-63.5953 2845.26,-69.781\"/>\n",
       "</g>\n",
       "<!-- 25 -->\n",
       "<g id=\"node50\" class=\"node\"><title>25</title>\n",
       "<polygon fill=\"none\" stroke=\"black\" points=\"3433,-178 3131,-178 3131,-98 3433,-98 3433,-178\"/>\n",
       "<text text-anchor=\"middle\" x=\"3282\" y=\"-161.4\" font-family=\"Times Roman,serif\" font-size=\"14.00\">too &lt;= 0.1574</text>\n",
       "<text text-anchor=\"middle\" x=\"3282\" y=\"-143.4\" font-family=\"Times Roman,serif\" font-size=\"14.00\">gini = 0.7563</text>\n",
       "<text text-anchor=\"middle\" x=\"3282\" y=\"-125.4\" font-family=\"Times Roman,serif\" font-size=\"14.00\">samples = 17000</text>\n",
       "<text text-anchor=\"middle\" x=\"3282\" y=\"-107.4\" font-family=\"Times Roman,serif\" font-size=\"14.00\">value = [1666, 4839, 5083, 4076, 1336]</text>\n",
       "</g>\n",
       "<!-- 24&#45;&gt;25 -->\n",
       "<g id=\"edge50\" class=\"edge\"><title>24&#45;&gt;25</title>\n",
       "<path fill=\"none\" stroke=\"black\" d=\"M3282,-213.754C3282,-205.567 3282,-196.856 3282,-188.368\"/>\n",
       "<polygon fill=\"black\" stroke=\"black\" points=\"3285.5,-188.174 3282,-178.174 3278.5,-188.175 3285.5,-188.174\"/>\n",
       "</g>\n",
       "<!-- 28 -->\n",
       "<g id=\"node56\" class=\"node\"><title>28</title>\n",
       "<polygon fill=\"none\" stroke=\"black\" points=\"3872,-178 3570,-178 3570,-98 3872,-98 3872,-178\"/>\n",
       "<text text-anchor=\"middle\" x=\"3721\" y=\"-161.4\" font-family=\"Times Roman,serif\" font-size=\"14.00\">too &lt;= 0.1264</text>\n",
       "<text text-anchor=\"middle\" x=\"3721\" y=\"-143.4\" font-family=\"Times Roman,serif\" font-size=\"14.00\">gini = 0.7765</text>\n",
       "<text text-anchor=\"middle\" x=\"3721\" y=\"-125.4\" font-family=\"Times Roman,serif\" font-size=\"14.00\">samples = 13960</text>\n",
       "<text text-anchor=\"middle\" x=\"3721\" y=\"-107.4\" font-family=\"Times Roman,serif\" font-size=\"14.00\">value = [1438, 3150, 3263, 4117, 1992]</text>\n",
       "</g>\n",
       "<!-- 24&#45;&gt;28 -->\n",
       "<g id=\"edge56\" class=\"edge\"><title>24&#45;&gt;28</title>\n",
       "<path fill=\"none\" stroke=\"black\" d=\"M3433.08,-214.079C3473.95,-203.28 3518.34,-191.551 3559.74,-180.61\"/>\n",
       "<polygon fill=\"black\" stroke=\"black\" points=\"3560.87,-183.933 3569.64,-177.994 3559.08,-177.165 3560.87,-183.933\"/>\n",
       "</g>\n",
       "<!-- 26 -->\n",
       "<g id=\"node52\" class=\"node\"><title>26</title>\n",
       "<polygon fill=\"none\" stroke=\"black\" points=\"3314,-62 3012,-62 3012,-3.19744e-14 3314,-7.10543e-15 3314,-62\"/>\n",
       "<text text-anchor=\"middle\" x=\"3163\" y=\"-45.4\" font-family=\"Times Roman,serif\" font-size=\"14.00\">gini = 0.7571</text>\n",
       "<text text-anchor=\"middle\" x=\"3163\" y=\"-27.4\" font-family=\"Times Roman,serif\" font-size=\"14.00\">samples = 16603</text>\n",
       "<text text-anchor=\"middle\" x=\"3163\" y=\"-9.4\" font-family=\"Times Roman,serif\" font-size=\"14.00\">value = [1617, 4631, 4978, 4043, 1334]</text>\n",
       "</g>\n",
       "<!-- 25&#45;&gt;26 -->\n",
       "<g id=\"edge52\" class=\"edge\"><title>25&#45;&gt;26</title>\n",
       "<path fill=\"none\" stroke=\"black\" d=\"M3237.35,-97.8527C3226.74,-88.3091 3215.45,-78.1599 3204.96,-68.7287\"/>\n",
       "<polygon fill=\"black\" stroke=\"black\" points=\"3207.26,-66.0908 3197.48,-62.0072 3202.58,-71.2961 3207.26,-66.0908\"/>\n",
       "</g>\n",
       "<!-- 27 -->\n",
       "<g id=\"node54\" class=\"node\"><title>27</title>\n",
       "<polygon fill=\"none\" stroke=\"black\" points=\"3552,-62 3332,-62 3332,-3.19744e-14 3552,-7.10543e-15 3552,-62\"/>\n",
       "<text text-anchor=\"middle\" x=\"3442\" y=\"-45.4\" font-family=\"Times Roman,serif\" font-size=\"14.00\">gini = 0.6334</text>\n",
       "<text text-anchor=\"middle\" x=\"3442\" y=\"-27.4\" font-family=\"Times Roman,serif\" font-size=\"14.00\">samples = 397</text>\n",
       "<text text-anchor=\"middle\" x=\"3442\" y=\"-9.4\" font-family=\"Times Roman,serif\" font-size=\"14.00\">value = [49, 208, 105, 33, 2]</text>\n",
       "</g>\n",
       "<!-- 25&#45;&gt;27 -->\n",
       "<g id=\"edge54\" class=\"edge\"><title>25&#45;&gt;27</title>\n",
       "<path fill=\"none\" stroke=\"black\" d=\"M3342.03,-97.8527C3356.86,-87.9385 3372.66,-77.3707 3387.22,-67.6333\"/>\n",
       "<polygon fill=\"black\" stroke=\"black\" points=\"3389.27,-70.4756 3395.63,-62.0072 3385.38,-64.6569 3389.27,-70.4756\"/>\n",
       "</g>\n",
       "<!-- 29 -->\n",
       "<g id=\"node58\" class=\"node\"><title>29</title>\n",
       "<polygon fill=\"none\" stroke=\"black\" points=\"3872,-62 3570,-62 3570,-3.19744e-14 3872,-7.10543e-15 3872,-62\"/>\n",
       "<text text-anchor=\"middle\" x=\"3721\" y=\"-45.4\" font-family=\"Times Roman,serif\" font-size=\"14.00\">gini = 0.7754</text>\n",
       "<text text-anchor=\"middle\" x=\"3721\" y=\"-27.4\" font-family=\"Times Roman,serif\" font-size=\"14.00\">samples = 13505</text>\n",
       "<text text-anchor=\"middle\" x=\"3721\" y=\"-9.4\" font-family=\"Times Roman,serif\" font-size=\"14.00\">value = [1360, 2927, 3176, 4073, 1969]</text>\n",
       "</g>\n",
       "<!-- 28&#45;&gt;29 -->\n",
       "<g id=\"edge58\" class=\"edge\"><title>28&#45;&gt;29</title>\n",
       "<path fill=\"none\" stroke=\"black\" d=\"M3721,-97.8527C3721,-89.421 3721,-80.5165 3721,-72.0522\"/>\n",
       "<polygon fill=\"black\" stroke=\"black\" points=\"3724.5,-72.0072 3721,-62.0072 3717.5,-72.0072 3724.5,-72.0072\"/>\n",
       "</g>\n",
       "<!-- 30 -->\n",
       "<g id=\"node60\" class=\"node\"><title>30</title>\n",
       "<polygon fill=\"none\" stroke=\"black\" points=\"4110,-62 3890,-62 3890,-3.19744e-14 4110,-7.10543e-15 4110,-62\"/>\n",
       "<text text-anchor=\"middle\" x=\"4000\" y=\"-45.4\" font-family=\"Times Roman,serif\" font-size=\"14.00\">gini = 0.6819</text>\n",
       "<text text-anchor=\"middle\" x=\"4000\" y=\"-27.4\" font-family=\"Times Roman,serif\" font-size=\"14.00\">samples = 455</text>\n",
       "<text text-anchor=\"middle\" x=\"4000\" y=\"-9.4\" font-family=\"Times Roman,serif\" font-size=\"14.00\">value = [78, 223, 87, 44, 23]</text>\n",
       "</g>\n",
       "<!-- 28&#45;&gt;30 -->\n",
       "<g id=\"edge60\" class=\"edge\"><title>28&#45;&gt;30</title>\n",
       "<path fill=\"none\" stroke=\"black\" d=\"M3825.68,-97.8527C3853.35,-87.2436 3882.96,-75.886 3909.79,-65.5984\"/>\n",
       "<polygon fill=\"black\" stroke=\"black\" points=\"3911.07,-68.856 3919.15,-62.0072 3908.56,-62.3202 3911.07,-68.856\"/>\n",
       "</g>\n",
       "</g>\n",
       "</svg>\n"
      ]
     },
     "metadata": {},
     "output_type": "display_data"
    }
   ],
   "source": [
    "export_graphviz(tree_model_with_num_words,\n",
    "                feature_names=vectorizer.get_feature_names() + ['num_words'],\n",
    "                out_file='tree.dot')\n",
    "f = open('tree.dot')\n",
    "tree_model_visualization = f.read()\n",
    "f.close()\n",
    "%dotstr tree_model_visualization"
   ]
  },
  {
   "cell_type": "markdown",
   "metadata": {},
   "source": [
    "This has been good to visualize what is going on with the decision tree, but let's see how well we can do if we don't limit the depth."
   ]
  },
  {
   "cell_type": "code",
   "execution_count": 35,
   "metadata": {
    "collapsed": false
   },
   "outputs": [
    {
     "data": {
      "text/plain": [
       "0.53419197744457259"
      ]
     },
     "execution_count": 35,
     "metadata": {},
     "output_type": "execute_result"
    }
   ],
   "source": [
    "X_train, X_test, y_train, y_test = train_test_split(X_with_num_words, y, train_size=0.5)\n",
    "tree_model_with_num_words = DecisionTreeClassifier()\n",
    "tree_model_with_num_words.fit(X_train, y_train)\n",
    "tree_model_with_num_words.score(X_test, y_test)"
   ]
  },
  {
   "cell_type": "markdown",
   "metadata": {},
   "source": [
    "Let's see how good we can do with a Random Forest."
   ]
  },
  {
   "cell_type": "code",
   "execution_count": 36,
   "metadata": {
    "collapsed": false
   },
   "outputs": [
    {
     "data": {
      "text/plain": [
       "0.60303729334871203"
      ]
     },
     "execution_count": 36,
     "metadata": {},
     "output_type": "execute_result"
    }
   ],
   "source": [
    "from sklearn.ensemble import RandomForestClassifier\n",
    "\n",
    "forest_model_with_num_words = RandomForestClassifier()\n",
    "forest_model_with_num_words.fit(X_train, y_train)\n",
    "forest_model_with_num_words.score(X_test, y_test)"
   ]
  },
  {
   "cell_type": "markdown",
   "metadata": {},
   "source": [
    "Now that we've gained some insight that lead us to add a feature consisting of the number of words in the phrase, let's see if that boosts our score using logistic regression."
   ]
  },
  {
   "cell_type": "code",
   "execution_count": 37,
   "metadata": {
    "collapsed": false
   },
   "outputs": [
    {
     "name": "stdout",
     "output_type": "stream",
     "text": [
      "With num words 0.631218762015\n",
      "Without num words 0.62552864283\n"
     ]
    }
   ],
   "source": [
    "model = LogisticRegression(multi_class='multinomial', solver='newton-cg')\n",
    "model.fit(X_train, y_train)\n",
    "print \"With num words\", model.score(X_test, y_test)\n",
    "\n",
    "model_without_num_words = LogisticRegression(multi_class='multinomial', solver='newton-cg')\n",
    "model_without_num_words.fit(X_train[:,:-1], y_train)\n",
    "print \"Without num words\", model_without_num_words.score(X_test[:,:-1], y_test)"
   ]
  },
  {
   "cell_type": "markdown",
   "metadata": {},
   "source": [
    "As a final step, let's tune the amount of regularization for our logistic regression model (since it seems to be working the best)."
   ]
  },
  {
   "cell_type": "code",
   "execution_count": 38,
   "metadata": {
    "collapsed": false
   },
   "outputs": [
    {
     "name": "stdout",
     "output_type": "stream",
     "text": [
      "With tuning 0.63916442394\n"
     ]
    },
    {
     "name": "stderr",
     "output_type": "stream",
     "text": [
      "/usr/local/lib/python2.7/dist-packages/scipy/optimize/linesearch.py:285: LineSearchWarning: The line search algorithm did not converge\n",
      "  warn('The line search algorithm did not converge', LineSearchWarning)\n",
      "/usr/local/lib/python2.7/dist-packages/sklearn/utils/optimize.py:193: UserWarning: Line Search failed\n",
      "  warnings.warn('Line Search failed')\n"
     ]
    }
   ],
   "source": [
    "from sklearn.linear_model import LogisticRegressionCV\n",
    "\n",
    "model = LogisticRegressionCV(Cs=[math.e**v for v in range(-5,5)],\n",
    "                             multi_class='multinomial',\n",
    "                             solver='newton-cg')\n",
    "model.fit(X_train, y_train)\n",
    "print \"With tuning\", model.score(X_test, y_test)"
   ]
  },
  {
   "cell_type": "markdown",
   "metadata": {},
   "source": [
    "## When to Give Up on a Model?"
   ]
  },
  {
   "cell_type": "markdown",
   "metadata": {},
   "source": [
    "Why are decision trees generally bad for sentiment analysis?  Let's plot the probability of some sentiment value versus the TF-IDF value for a particular word.  We'll deliberately pick a word that is likely to play an important role in determining the sentiment of a movie review."
   ]
  },
  {
   "cell_type": "code",
   "execution_count": 40,
   "metadata": {
    "collapsed": false
   },
   "outputs": [
    {
     "data": {
      "image/png": "[encoded data removed]",
      "text/plain": [
       "<matplotlib.figure.Figure at 0xe10e490>"
      ]
     },
     "metadata": {},
     "output_type": "display_data"
    }
   ],
   "source": [
    "%matplotlib inline\n",
    "import matplotlib.pyplot as plt\n",
    "\n",
    "def make_log_odds_plot(word, sentiment):\n",
    "    log_odds = []\n",
    "    word_index = vectorizer.get_feature_names().index(word)\n",
    "    word_tf_idf = np.asarray(X_train[:,word_index].todense())\n",
    "    bucket_centers = np.arange(0, np.max(word_tf_idf), .1)\n",
    "    bucket_indices = np.digitize(word_tf_idf, bucket_centers)\n",
    "\n",
    "    for i, v in enumerate(bucket_centers):\n",
    "        smoothed_prob = np.sum((y_train[:, np.newaxis] == sentiment) * (bucket_indices == i)) / float(sum(bucket_indices == i))\n",
    "        log_odds.append(np.log(smoothed_prob / (1-smoothed_prob)))\n",
    "    plt.plot(bucket_centers, log_odds)\n",
    "    plt.ylabel('log odds ratio sentiment %d' % (sentiment,))\n",
    "    plt.xlabel('TF-IDF')\n",
    "\n",
    "make_log_odds_plot('good', 0)\n",
    "make_log_odds_plot('bad', 0)\n",
    "plt.legend(['good', 'bad'])\n",
    "plt.show()"
   ]
  },
  {
   "cell_type": "code",
   "execution_count": 41,
   "metadata": {
    "collapsed": false
   },
   "outputs": [
    {
     "data": {
      "image/png": "[encoded data removed]",
      "text/plain": [
       "<matplotlib.figure.Figure at 0x704b510>"
      ]
     },
     "metadata": {},
     "output_type": "display_data"
    }
   ],
   "source": [
    "make_log_odds_plot('good', 4)\n",
    "make_log_odds_plot('bad', 4)\n",
    "plt.legend(['good', 'bad'])\n",
    "plt.show()"
   ]
  },
  {
   "cell_type": "markdown",
   "metadata": {},
   "source": [
    "From this analysis we see that the there is a strong relationship between the magnitude of a TF-IDF feature and the resultant probability of the phrase having a certain sentiment value.  Why might this be hard for a tree to model?"
   ]
  },
  {
   "cell_type": "markdown",
   "metadata": {},
   "source": [
    "## Interpreting Log Loss\n",
    "\n",
    "One complexity of the SF Crime data is that it uses a metric other than accuracy.  This metric is called log loss.  Next, we will take a closer look at that error metric and some issues that arise in interpreting it."
   ]
  },
  {
   "cell_type": "code",
   "execution_count": 42,
   "metadata": {
    "collapsed": true
   },
   "outputs": [],
   "source": [
    "all_crimes = set(crime.Category)\n",
    "crime_probabilities = {}\n",
    "for c in all_crimes:\n",
    "    crime_probabilities[c] = (crime.Category == c).sum() / float(len(crime.Category))"
   ]
  },
  {
   "cell_type": "code",
   "execution_count": 43,
   "metadata": {
    "collapsed": false
   },
   "outputs": [
    {
     "data": {
      "text/plain": [
       "{'ARSON': 0.0017231384581042743,\n",
       " 'ASSAULT': 0.087553200333922138,\n",
       " 'BAD CHECKS': 0.00046238877329169559,\n",
       " 'BRIBERY': 0.00032913880660418723,\n",
       " 'BURGLARY': 0.041859850646148451,\n",
       " 'DISORDERLY CONDUCT': 0.0049199987700003075,\n",
       " 'DRIVING UNDER THE INFLUENCE': 0.0025829993542501616,\n",
       " 'DRUG/NARCOTIC': 0.061466956855483007,\n",
       " 'DRUNKENNESS': 0.0048744432258336383,\n",
       " 'EMBEZZLEMENT': 0.0013279441124584162,\n",
       " 'EXTORTION': 0.00029155548266668487,\n",
       " 'FAMILY OFFENSES': 0.00055919430464586826,\n",
       " 'FORGERY/COUNTERFEITING': 0.012082469201604922,\n",
       " 'FRAUD': 0.01899552302889702,\n",
       " 'GAMBLING': 0.00016627773620834374,\n",
       " 'KIDNAPPING': 0.0026661382223543335,\n",
       " 'LARCENY/THEFT': 0.19919161686876244,\n",
       " 'LIQUOR LAWS': 0.002167305013729302,\n",
       " 'LOITERING': 0.0013951385401042538,\n",
       " 'MISSING PERSON': 0.02959857593368935,\n",
       " 'NON-CRIMINAL': 0.10512397371900657,\n",
       " 'OTHER OFFENSES': 0.14370724185096731,\n",
       " 'PORNOGRAPHY/OBSCENE MAT': 2.5055549291668231e-05,\n",
       " 'PROSTITUTION': 0.0085234423135838663,\n",
       " 'RECOVERED VEHICLE': 0.0035738324398752234,\n",
       " 'ROBBERY': 0.02619443789583497,\n",
       " 'RUNAWAY': 0.0022162772237084719,\n",
       " 'SECONDARY CODES': 0.011371802712604878,\n",
       " 'SEX OFFENSES FORCIBLE': 0.0049974431950836453,\n",
       " 'SEX OFFENSES NON FORCIBLE': 0.0001685555134166772,\n",
       " 'STOLEN PROPERTY': 0.0051705542629169902,\n",
       " 'SUICIDE': 0.00057855541091670281,\n",
       " 'SUSPICIOUS OCC': 0.035777046611293904,\n",
       " 'TREA': 6.833331625000427e-06,\n",
       " 'TRESPASS': 0.0083434979141255219,\n",
       " 'VANDALISM': 0.050936792821357352,\n",
       " 'VEHICLE THEFT': 0.061250568020691329,\n",
       " 'WARRANTS': 0.048077043536294668,\n",
       " 'WEAPON LAWS': 0.0097431920086464424}"
      ]
     },
     "execution_count": 43,
     "metadata": {},
     "output_type": "execute_result"
    }
   ],
   "source": [
    "crime_probabilities"
   ]
  },
  {
   "cell_type": "markdown",
   "metadata": {},
   "source": [
    "When evaluating a classifier according to log loss, we require the model to provide a probability of each possible outcome.  The model then incurs a loss proportional to the negative of the log of the probability the model assigned to that outcome.\n",
    "\n",
    "As an example, suppose the TV weather person assigned a probability of 0.7 to it raining and 0.2 it snowing and 0.1 to neither.  It turned out it snowed.  What is the log loss for this prediction?"
   ]
  },
  {
   "cell_type": "markdown",
   "metadata": {},
   "source": [
    "### A Sensible Baseline\n",
    "\n",
    "When we did the titanic dataset, the easiest baseline model was to simply predict that everyone perished (since it was the most common outcome).  Similarly, here we could predict 'OTHER-OFFENSES' for every data point.  However, we must do more than simply predict a single outcome, we must output a probability for each of the possible crimes.  The first thing to try is to output a probability of 1 for 'OTHER-OFFENSES' and 0 for all other crimes.  What will go wrong here?  Note: Kaggle saves you from this without really telling you that it is doing so.\n",
    "\n",
    "To improve upon this approach, we can simply predict the probabilities observed in the entire dataset for each individual datapoint."
   ]
  },
  {
   "cell_type": "code",
   "execution_count": null,
   "metadata": {
    "collapsed": false
   },
   "outputs": [],
   "source": [
    "def baseline(x):\n",
    "    \"\"\" the baseline model ignores x and simply predicts the baseline probabilities\n",
    "        in the dataset \"\"\"\n",
    "    return crime_probabilities\n",
    "\n",
    "# this is super slow, and not recommended, but I wanted to illustrate the point clearly\n",
    "log_loss = 0.0\n",
    "for row in crime.iterrows():\n",
    "    # let's just use the X and Y position\n",
    "    features = np.asarray([row[1].X, row[1].Y])\n",
    "    probs = baseline(features)\n",
    "    log_loss += -np.log(probs[row[1].Category]) / float(len(crime))\n",
    "    if row[0] % 50000 == 0:\n",
    "        print row[0]/ float(len(crime))\n",
    "\n",
    "print \"log_loss\", log_loss"
   ]
  },
  {
   "cell_type": "markdown",
   "metadata": {},
   "source": [
    "This is horribly slow, and we can really do a lot better.  You'll notice that we always add the same value for log_loss for a particular category.  To speed things up we can loop over crime categories and use counts to speed things up."
   ]
  },
  {
   "cell_type": "code",
   "execution_count": 44,
   "metadata": {
    "collapsed": false
   },
   "outputs": [
    {
     "ename": "NameError",
     "evalue": "name 'baseline' is not defined",
     "output_type": "error",
     "traceback": [
      "\u001b[1;31m---------------------------------------------------------------------------\u001b[0m",
      "\u001b[1;31mNameError\u001b[0m                                 Traceback (most recent call last)",
      "\u001b[1;32m<ipython-input-44-6c3fd99e70d5>\u001b[0m in \u001b[0;36m<module>\u001b[1;34m()\u001b[0m\n\u001b[0;32m      2\u001b[0m \u001b[1;32mfor\u001b[0m \u001b[0mcategory\u001b[0m \u001b[1;32min\u001b[0m \u001b[0mall_crimes\u001b[0m\u001b[1;33m:\u001b[0m\u001b[1;33m\u001b[0m\u001b[0m\n\u001b[0;32m      3\u001b[0m     \u001b[1;31m# baseline ignores x, so we just pass in None\u001b[0m\u001b[1;33m\u001b[0m\u001b[1;33m\u001b[0m\u001b[0m\n\u001b[1;32m----> 4\u001b[1;33m     \u001b[0mprobs\u001b[0m \u001b[1;33m=\u001b[0m \u001b[0mbaseline\u001b[0m\u001b[1;33m(\u001b[0m\u001b[0mNone\u001b[0m\u001b[1;33m)\u001b[0m\u001b[1;33m\u001b[0m\u001b[0m\n\u001b[0m\u001b[0;32m      5\u001b[0m     \u001b[0mlog_loss\u001b[0m \u001b[1;33m+=\u001b[0m \u001b[1;33m-\u001b[0m\u001b[0mnp\u001b[0m\u001b[1;33m.\u001b[0m\u001b[0mlog\u001b[0m\u001b[1;33m(\u001b[0m\u001b[0mprobs\u001b[0m\u001b[1;33m[\u001b[0m\u001b[0mcategory\u001b[0m\u001b[1;33m]\u001b[0m\u001b[1;33m)\u001b[0m\u001b[1;33m*\u001b[0m\u001b[1;33m(\u001b[0m\u001b[0mcrime\u001b[0m\u001b[1;33m.\u001b[0m\u001b[0mCategory\u001b[0m \u001b[1;33m==\u001b[0m \u001b[0mcategory\u001b[0m\u001b[1;33m)\u001b[0m\u001b[1;33m.\u001b[0m\u001b[0msum\u001b[0m\u001b[1;33m(\u001b[0m\u001b[1;33m)\u001b[0m \u001b[1;33m/\u001b[0m \u001b[0mfloat\u001b[0m\u001b[1;33m(\u001b[0m\u001b[0mlen\u001b[0m\u001b[1;33m(\u001b[0m\u001b[0mcrime\u001b[0m\u001b[1;33m)\u001b[0m\u001b[1;33m)\u001b[0m\u001b[1;33m\u001b[0m\u001b[0m\n\u001b[0;32m      6\u001b[0m \u001b[1;33m\u001b[0m\u001b[0m\n",
      "\u001b[1;31mNameError\u001b[0m: name 'baseline' is not defined"
     ]
    }
   ],
   "source": [
    "log_loss = 0.0\n",
    "for category in all_crimes:\n",
    "    # baseline ignores x, so we just pass in None\n",
    "    probs = baseline(None)\n",
    "    log_loss += -np.log(probs[category])*(crime.Category == category).sum() / float(len(crime))\n",
    "\n",
    "print \"log_loss\", log_loss"
   ]
  },
  {
   "cell_type": "markdown",
   "metadata": {},
   "source": [
    "If we look a little closer, we will see that the second part of the expression in the loop is really just the probability of a crime in the dataset.  This let's us rewrite our code as."
   ]
  },
  {
   "cell_type": "code",
   "execution_count": null,
   "metadata": {
    "collapsed": false
   },
   "outputs": [],
   "source": [
    "log_loss = 0.0\n",
    "for category, prob in crime_probabilities.items():\n",
    "    log_loss += -np.log(prob)*prob\n",
    "\n",
    "print \"log_loss\", log_loss"
   ]
  },
  {
   "cell_type": "markdown",
   "metadata": {},
   "source": [
    "This may look familiar to you.  This is almost exactly the formula for the [entropy of a discrete probability distribution](https://en.wikipedia.org/wiki/Entropy_%28information_theory%29).  The only difference is that the entropy uses a log with base 2 whereas the log loss typically uses the natural log.  This connection can give you some new ways to think about what this log loss really means.\n",
    "\n",
    "One interpretation is that the entropy gives us the number of bits of randomness in each event.  Therefore, a crime in San Francisco has $2.68 \\times \\frac{\\ln e}{\\ln 2} = 3.87$ bits of randomness associated with it.  Any improvements that you can glean from your model can be quantified by calculating the gain in information that your model provides expressed in bits.  For instance, the leading model on Kaggle right now has a log loss of 2.05 which translates to 2.95 bits of randomness.  The difference betweeen these two is .91 bits.\n",
    "\n",
    "Other ways to think about Entropy:\n",
    "1.  On average how surprised are you when an event occurs?\n",
    "2.  How much data would it take to encode a stream of events?  The inverse being, how much can you compress a stream of data given some underlying knowledge of its structure."
   ]
  }
 ],
 "metadata": {
  "kernelspec": {
   "display_name": "Python 2",
   "language": "python",
   "name": "python2"
  },
  "language_info": {
   "codemirror_mode": {
    "name": "ipython",
    "version": 2
   },
   "file_extension": ".py",
   "mimetype": "text/x-python",
   "name": "python",
   "nbconvert_exporter": "python",
   "pygments_lexer": "ipython2",
   "version": "2.7.3"
  }
 },
 "nbformat": 4,
 "nbformat_minor": 0
}
